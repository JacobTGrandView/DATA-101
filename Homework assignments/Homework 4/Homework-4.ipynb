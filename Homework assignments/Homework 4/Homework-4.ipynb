{
 "cells": [
  {
   "cell_type": "markdown",
   "id": "d6ac2511-ac8f-47dd-b140-887fbfb6a383",
   "metadata": {},
   "source": [
    "<h2>Exercise 1 - What is “k” in the k-NN algorithm? Be specific.</h2>\n",
    "\n",
    "**Answer:** K is for the number of neighbors to be used for classifying unlabeled neighbors"
   ]
  },
  {
   "cell_type": "markdown",
   "id": "b9975311-743d-45ab-ade3-0b46f7d151a4",
   "metadata": {},
   "source": [
    "<h2>Exercise 2 - Which of the following is true about the k-NN algorithm? </h2>\n",
    "\n",
    "**Answer:** A - When you increase k, the bias will increase as well"
   ]
  },
  {
   "cell_type": "markdown",
   "id": "8cecc3e5-627f-4695-af77-d7e37dd86d82",
   "metadata": {},
   "source": [
    "<h2>Exercise 3 - Why is it important to standardize the data before k-NN?</h2>\n",
    "\n",
    "**Answer:** k-NN is a distance-based algorithm, and it calculates the distance between two points based on the Euclidean distance formula. It prevents a feature from dominating"
   ]
  },
  {
   "cell_type": "markdown",
   "id": "7844534e-5f84-4f09-b67c-e16f058653fd",
   "metadata": {},
   "source": [
    "<h2>Exercise 4 -  Given the following two statements, find which one of these options is true in the case\n",
    "of k-NN?</h2>\n",
    "\n",
    "**Answer:** C - Both a and b"
   ]
  },
  {
   "cell_type": "markdown",
   "id": "8dcce768-2cac-475e-b2a2-738d67c0c54d",
   "metadata": {},
   "source": [
    "<h2>Exercise 5</h2>\n",
    "Use the iris dataset to answer the following questions. The data set contains 3 classes of 50 instances each, where each class refers to a type of iris plant. The goal of this exercise is to predict the iris class."
   ]
  },
  {
   "cell_type": "code",
   "execution_count": 62,
   "id": "1c9d7f74-0e6c-4148-a92c-bffede97584a",
   "metadata": {},
   "outputs": [
    {
     "data": {
      "text/html": [
       "<div>\n",
       "<style scoped>\n",
       "    .dataframe tbody tr th:only-of-type {\n",
       "        vertical-align: middle;\n",
       "    }\n",
       "\n",
       "    .dataframe tbody tr th {\n",
       "        vertical-align: top;\n",
       "    }\n",
       "\n",
       "    .dataframe thead th {\n",
       "        text-align: right;\n",
       "    }\n",
       "</style>\n",
       "<table border=\"1\" class=\"dataframe\">\n",
       "  <thead>\n",
       "    <tr style=\"text-align: right;\">\n",
       "      <th></th>\n",
       "      <th>sepal_length</th>\n",
       "      <th>sepal_width</th>\n",
       "      <th>petal_length</th>\n",
       "      <th>petal_width</th>\n",
       "      <th>class</th>\n",
       "    </tr>\n",
       "  </thead>\n",
       "  <tbody>\n",
       "    <tr>\n",
       "      <th>0</th>\n",
       "      <td>5.1</td>\n",
       "      <td>3.5</td>\n",
       "      <td>1.4</td>\n",
       "      <td>0.2</td>\n",
       "      <td>Iris-setosa</td>\n",
       "    </tr>\n",
       "    <tr>\n",
       "      <th>1</th>\n",
       "      <td>4.9</td>\n",
       "      <td>3.0</td>\n",
       "      <td>1.4</td>\n",
       "      <td>0.2</td>\n",
       "      <td>Iris-setosa</td>\n",
       "    </tr>\n",
       "    <tr>\n",
       "      <th>2</th>\n",
       "      <td>4.7</td>\n",
       "      <td>3.2</td>\n",
       "      <td>1.3</td>\n",
       "      <td>0.2</td>\n",
       "      <td>Iris-setosa</td>\n",
       "    </tr>\n",
       "    <tr>\n",
       "      <th>3</th>\n",
       "      <td>4.6</td>\n",
       "      <td>3.1</td>\n",
       "      <td>1.5</td>\n",
       "      <td>0.2</td>\n",
       "      <td>Iris-setosa</td>\n",
       "    </tr>\n",
       "    <tr>\n",
       "      <th>4</th>\n",
       "      <td>5.0</td>\n",
       "      <td>3.6</td>\n",
       "      <td>1.4</td>\n",
       "      <td>0.2</td>\n",
       "      <td>Iris-setosa</td>\n",
       "    </tr>\n",
       "  </tbody>\n",
       "</table>\n",
       "</div>"
      ],
      "text/plain": [
       "   sepal_length  sepal_width  petal_length  petal_width        class\n",
       "0           5.1          3.5           1.4          0.2  Iris-setosa\n",
       "1           4.9          3.0           1.4          0.2  Iris-setosa\n",
       "2           4.7          3.2           1.3          0.2  Iris-setosa\n",
       "3           4.6          3.1           1.5          0.2  Iris-setosa\n",
       "4           5.0          3.6           1.4          0.2  Iris-setosa"
      ]
     },
     "execution_count": 62,
     "metadata": {},
     "output_type": "execute_result"
    }
   ],
   "source": [
    "#5a - Using the pandas library, read the csv file and create a data-frame called iris.\n",
    "\n",
    "import pandas as pd\n",
    "\n",
    "iris = pd.read_csv('iris_data.csv')\n",
    "iris.head()"
   ]
  },
  {
   "cell_type": "code",
   "execution_count": 63,
   "id": "cdc7e550-a9af-4e0e-bd86-cdf930114eb7",
   "metadata": {},
   "outputs": [
    {
     "data": {
      "text/plain": [
       "Text(0, 0.5, 'Petal Width')"
      ]
     },
     "execution_count": 63,
     "metadata": {},
     "output_type": "execute_result"
    },
    {
     "data": {
      "image/png": "[encoded data removed]",
      "text/plain": [
       "<Figure size 640x480 with 1 Axes>"
      ]
     },
     "metadata": {},
     "output_type": "display_data"
    }
   ],
   "source": [
    "#5b - Create the scatter-plot between petal_length and petal_width. Comment on the plot. \n",
    "# Do you see any natural grouping in the data?\n",
    "\n",
    "import matplotlib.pyplot as plt; plt.style.use('ggplot')\n",
    "import numpy as np\n",
    "\n",
    "plt.plot('petal_length', 'petal_width', 'o', data = iris)\n",
    "plt.xlabel('Petal Length')\n",
    "plt.ylabel('Petal Width')"
   ]
  },
  {
   "cell_type": "markdown",
   "id": "f8c201f8-2f96-40bb-ac56-f712567b01bc",
   "metadata": {},
   "source": [
    "Positive linear correlation. There is natural grouping, it seems like a type of iris plant is much smaller in petal length and width"
   ]
  },
  {
   "cell_type": "code",
   "execution_count": 64,
   "id": "c807827d-a965-47cf-98db-e4d66193c42c",
   "metadata": {},
   "outputs": [
    {
     "data": {
      "text/html": [
       "<div>\n",
       "<style scoped>\n",
       "    .dataframe tbody tr th:only-of-type {\n",
       "        vertical-align: middle;\n",
       "    }\n",
       "\n",
       "    .dataframe tbody tr th {\n",
       "        vertical-align: top;\n",
       "    }\n",
       "\n",
       "    .dataframe thead th {\n",
       "        text-align: right;\n",
       "    }\n",
       "</style>\n",
       "<table border=\"1\" class=\"dataframe\">\n",
       "  <thead>\n",
       "    <tr style=\"text-align: right;\">\n",
       "      <th></th>\n",
       "      <th>sepal_length</th>\n",
       "      <th>sepal_width</th>\n",
       "      <th>petal_length</th>\n",
       "      <th>petal_width</th>\n",
       "      <th>class</th>\n",
       "      <th>z_sepal_length</th>\n",
       "      <th>z_sepal_width</th>\n",
       "      <th>z_petal_length</th>\n",
       "      <th>z_petal_width</th>\n",
       "    </tr>\n",
       "  </thead>\n",
       "  <tbody>\n",
       "    <tr>\n",
       "      <th>0</th>\n",
       "      <td>5.1</td>\n",
       "      <td>3.5</td>\n",
       "      <td>1.4</td>\n",
       "      <td>0.2</td>\n",
       "      <td>Iris-setosa</td>\n",
       "      <td>-0.900681</td>\n",
       "      <td>1.032057</td>\n",
       "      <td>-1.341272</td>\n",
       "      <td>-1.312977</td>\n",
       "    </tr>\n",
       "    <tr>\n",
       "      <th>1</th>\n",
       "      <td>4.9</td>\n",
       "      <td>3.0</td>\n",
       "      <td>1.4</td>\n",
       "      <td>0.2</td>\n",
       "      <td>Iris-setosa</td>\n",
       "      <td>-1.143017</td>\n",
       "      <td>-0.124958</td>\n",
       "      <td>-1.341272</td>\n",
       "      <td>-1.312977</td>\n",
       "    </tr>\n",
       "    <tr>\n",
       "      <th>2</th>\n",
       "      <td>4.7</td>\n",
       "      <td>3.2</td>\n",
       "      <td>1.3</td>\n",
       "      <td>0.2</td>\n",
       "      <td>Iris-setosa</td>\n",
       "      <td>-1.385353</td>\n",
       "      <td>0.337848</td>\n",
       "      <td>-1.398138</td>\n",
       "      <td>-1.312977</td>\n",
       "    </tr>\n",
       "    <tr>\n",
       "      <th>3</th>\n",
       "      <td>4.6</td>\n",
       "      <td>3.1</td>\n",
       "      <td>1.5</td>\n",
       "      <td>0.2</td>\n",
       "      <td>Iris-setosa</td>\n",
       "      <td>-1.506521</td>\n",
       "      <td>0.106445</td>\n",
       "      <td>-1.284407</td>\n",
       "      <td>-1.312977</td>\n",
       "    </tr>\n",
       "    <tr>\n",
       "      <th>4</th>\n",
       "      <td>5.0</td>\n",
       "      <td>3.6</td>\n",
       "      <td>1.4</td>\n",
       "      <td>0.2</td>\n",
       "      <td>Iris-setosa</td>\n",
       "      <td>-1.021849</td>\n",
       "      <td>1.263460</td>\n",
       "      <td>-1.341272</td>\n",
       "      <td>-1.312977</td>\n",
       "    </tr>\n",
       "  </tbody>\n",
       "</table>\n",
       "</div>"
      ],
      "text/plain": [
       "   sepal_length  sepal_width  petal_length  petal_width        class  \\\n",
       "0           5.1          3.5           1.4          0.2  Iris-setosa   \n",
       "1           4.9          3.0           1.4          0.2  Iris-setosa   \n",
       "2           4.7          3.2           1.3          0.2  Iris-setosa   \n",
       "3           4.6          3.1           1.5          0.2  Iris-setosa   \n",
       "4           5.0          3.6           1.4          0.2  Iris-setosa   \n",
       "\n",
       "   z_sepal_length  z_sepal_width  z_petal_length  z_petal_width  \n",
       "0       -0.900681       1.032057       -1.341272      -1.312977  \n",
       "1       -1.143017      -0.124958       -1.341272      -1.312977  \n",
       "2       -1.385353       0.337848       -1.398138      -1.312977  \n",
       "3       -1.506521       0.106445       -1.284407      -1.312977  \n",
       "4       -1.021849       1.263460       -1.341272      -1.312977  "
      ]
     },
     "execution_count": 64,
     "metadata": {},
     "output_type": "execute_result"
    }
   ],
   "source": [
    "#5c - Calculate the z-score standardized values of the four variables and store them in \n",
    "# new columns named z_sepal_length, z_sepal_width, z_petal_length and z_petal_width\n",
    "\n",
    "from scipy import stats\n",
    "iris['z_sepal_length'] = stats.zscore(iris['sepal_length'])\n",
    "iris['z_sepal_width'] = stats.zscore(iris['sepal_width'])\n",
    "iris['z_petal_length'] = stats.zscore(iris['petal_length'])\n",
    "iris['z_petal_width'] = stats.zscore(iris['petal_width'])\n",
    "\n",
    "iris.head()"
   ]
  },
  {
   "cell_type": "code",
   "execution_count": 65,
   "id": "7850ae38-ff85-4855-92e4-3d3ffe052c8f",
   "metadata": {},
   "outputs": [
    {
     "data": {
      "text/plain": [
       "class\n",
       "Iris-setosa        50\n",
       "Iris-versicolor    50\n",
       "Iris-virginica     50\n",
       "Name: count, dtype: int64"
      ]
     },
     "execution_count": 65,
     "metadata": {},
     "output_type": "execute_result"
    }
   ],
   "source": [
    "iris['class'].value_counts()"
   ]
  },
  {
   "cell_type": "code",
   "execution_count": 66,
   "id": "2fed105c-f259-4ab5-a70f-1314af5292ee",
   "metadata": {},
   "outputs": [],
   "source": [
    "#5d - Split the iris data-frame into training and testing. Select the first 120 observations and the \n",
    "# standardized variables for the training dataset, and the remaining observations for the testing dataset. \n",
    "# Before you create your X_train, Y_train, X_test and Y_test, run the line of code shown below.\n",
    "\n",
    "from sklearn.neighbors import KNeighborsClassifier\n",
    "from sklearn.preprocessing import MinMaxScaler\n",
    "from sklearn.model_selection import train_test_split\n",
    "from sklearn.preprocessing import StandardScaler\n",
    "\n",
    "#Random shuffle of the observations\n",
    "iris = iris.sample(frac = 1, random_state = 453).reset_index(drop = True)\n",
    "\n",
    "scaler = StandardScaler()\n",
    "\n",
    "#Standardize features\n",
    "iris.iloc[:, 5:9] = scaler.fit_transform(iris.iloc[:, 5:10])\n",
    "\n",
    "#Split into train and test. First 120 rows for training\n",
    "X_train = iris.loc[:119, ['z_sepal_length', 'z_sepal_width', 'z_petal_length', 'z_petal_width']]\n",
    "Y_train = iris.loc[:119, 'class']\n",
    "X_test = iris.loc[120:, ['z_sepal_length', 'z_sepal_width', 'z_petal_length', 'z_petal_width']]\n",
    "Y_test = iris.loc[120:, 'class']"
   ]
  },
  {
   "cell_type": "code",
   "execution_count": 67,
   "id": "39636c0c-4a5a-465c-8c05-7a1c15f31799",
   "metadata": {},
   "outputs": [],
   "source": [
    "#5e - Build a k-NN classifier using the training dataset and 4 neighbors\n",
    "\n",
    "four_nn = KNeighborsClassifier(n_neighbors = 4).fit(X_train, Y_train)"
   ]
  },
  {
   "cell_type": "code",
   "execution_count": 69,
   "id": "aa217edc-4c43-4983-80f4-01da53dcd9f0",
   "metadata": {},
   "outputs": [],
   "source": [
    "#5f - Using the model from part (e), predict class on the testing set.\n",
    "\n",
    "from sklearn.metrics import accuracy_score\n",
    "\n",
    "predictions = four_nn.predict(X_test)"
   ]
  },
  {
   "cell_type": "code",
   "execution_count": 70,
   "id": "360bb4f1-0d00-485f-855a-ca2a51cca657",
   "metadata": {},
   "outputs": [
    {
     "name": "stdout",
     "output_type": "stream",
     "text": [
      "0.9333333333333333\n"
     ]
    }
   ],
   "source": [
    "#5g - Compare the predictions against the actuals\n",
    "\n",
    "acc = accuracy_score(Y_test, predictions)\n",
    "print(acc)"
   ]
  },
  {
   "cell_type": "markdown",
   "id": "78917330-e8a6-4de0-994c-5086a908c5dc",
   "metadata": {},
   "source": [
    "<h2>Exercise 6</h2>\n",
    "Use the diamonds.csv data file to answer the questions below. This datafile contains information related to almost 54,000 diamonds (including their prices). The goal is to predict the price of diamonds"
   ]
  },
  {
   "cell_type": "code",
   "execution_count": 31,
   "id": "e4c19741-8606-40ed-87b3-45c717664244",
   "metadata": {},
   "outputs": [
    {
     "data": {
      "text/html": [
       "<div>\n",
       "<style scoped>\n",
       "    .dataframe tbody tr th:only-of-type {\n",
       "        vertical-align: middle;\n",
       "    }\n",
       "\n",
       "    .dataframe tbody tr th {\n",
       "        vertical-align: top;\n",
       "    }\n",
       "\n",
       "    .dataframe thead th {\n",
       "        text-align: right;\n",
       "    }\n",
       "</style>\n",
       "<table border=\"1\" class=\"dataframe\">\n",
       "  <thead>\n",
       "    <tr style=\"text-align: right;\">\n",
       "      <th></th>\n",
       "      <th>Unnamed: 0</th>\n",
       "      <th>carat</th>\n",
       "      <th>cut</th>\n",
       "      <th>color</th>\n",
       "      <th>clarity</th>\n",
       "      <th>depth</th>\n",
       "      <th>table</th>\n",
       "      <th>price</th>\n",
       "      <th>x</th>\n",
       "      <th>y</th>\n",
       "      <th>z</th>\n",
       "    </tr>\n",
       "  </thead>\n",
       "  <tbody>\n",
       "    <tr>\n",
       "      <th>0</th>\n",
       "      <td>1</td>\n",
       "      <td>0.23</td>\n",
       "      <td>Ideal</td>\n",
       "      <td>E</td>\n",
       "      <td>SI2</td>\n",
       "      <td>61.5</td>\n",
       "      <td>55.0</td>\n",
       "      <td>326</td>\n",
       "      <td>3.95</td>\n",
       "      <td>3.98</td>\n",
       "      <td>2.43</td>\n",
       "    </tr>\n",
       "    <tr>\n",
       "      <th>1</th>\n",
       "      <td>2</td>\n",
       "      <td>0.21</td>\n",
       "      <td>Premium</td>\n",
       "      <td>E</td>\n",
       "      <td>SI1</td>\n",
       "      <td>59.8</td>\n",
       "      <td>61.0</td>\n",
       "      <td>326</td>\n",
       "      <td>3.89</td>\n",
       "      <td>3.84</td>\n",
       "      <td>2.31</td>\n",
       "    </tr>\n",
       "    <tr>\n",
       "      <th>2</th>\n",
       "      <td>3</td>\n",
       "      <td>0.23</td>\n",
       "      <td>Good</td>\n",
       "      <td>E</td>\n",
       "      <td>VS1</td>\n",
       "      <td>56.9</td>\n",
       "      <td>65.0</td>\n",
       "      <td>327</td>\n",
       "      <td>4.05</td>\n",
       "      <td>4.07</td>\n",
       "      <td>2.31</td>\n",
       "    </tr>\n",
       "    <tr>\n",
       "      <th>3</th>\n",
       "      <td>4</td>\n",
       "      <td>0.29</td>\n",
       "      <td>Premium</td>\n",
       "      <td>I</td>\n",
       "      <td>VS2</td>\n",
       "      <td>62.4</td>\n",
       "      <td>58.0</td>\n",
       "      <td>334</td>\n",
       "      <td>4.20</td>\n",
       "      <td>4.23</td>\n",
       "      <td>2.63</td>\n",
       "    </tr>\n",
       "    <tr>\n",
       "      <th>4</th>\n",
       "      <td>5</td>\n",
       "      <td>0.31</td>\n",
       "      <td>Good</td>\n",
       "      <td>J</td>\n",
       "      <td>SI2</td>\n",
       "      <td>63.3</td>\n",
       "      <td>58.0</td>\n",
       "      <td>335</td>\n",
       "      <td>4.34</td>\n",
       "      <td>4.35</td>\n",
       "      <td>2.75</td>\n",
       "    </tr>\n",
       "  </tbody>\n",
       "</table>\n",
       "</div>"
      ],
      "text/plain": [
       "   Unnamed: 0  carat      cut color clarity  depth  table  price     x     y  \\\n",
       "0           1   0.23    Ideal     E     SI2   61.5   55.0    326  3.95  3.98   \n",
       "1           2   0.21  Premium     E     SI1   59.8   61.0    326  3.89  3.84   \n",
       "2           3   0.23     Good     E     VS1   56.9   65.0    327  4.05  4.07   \n",
       "3           4   0.29  Premium     I     VS2   62.4   58.0    334  4.20  4.23   \n",
       "4           5   0.31     Good     J     SI2   63.3   58.0    335  4.34  4.35   \n",
       "\n",
       "      z  \n",
       "0  2.43  \n",
       "1  2.31  \n",
       "2  2.31  \n",
       "3  2.63  \n",
       "4  2.75  "
      ]
     },
     "execution_count": 31,
     "metadata": {},
     "output_type": "execute_result"
    }
   ],
   "source": [
    "#6a - Using the pandas library, read the csv file and create a data-frame called diamonds\n",
    "\n",
    "diamonds = pd.read_csv('diamonds.csv')\n",
    "diamonds.head()"
   ]
  },
  {
   "cell_type": "code",
   "execution_count": 32,
   "id": "1792979b-c6fd-4898-a131-17b88c9e51e4",
   "metadata": {},
   "outputs": [
    {
     "data": {
      "text/plain": [
       "Text(0, 0.5, 'Price')"
      ]
     },
     "execution_count": 32,
     "metadata": {},
     "output_type": "execute_result"
    },
    {
     "data": {
      "image/png": "[encoded data removed]",
      "text/plain": [
       "<Figure size 640x480 with 1 Axes>"
      ]
     },
     "metadata": {},
     "output_type": "display_data"
    }
   ],
   "source": [
    "#6b - Create the scatter-plot of carat and price. Comment on the plot.\n",
    "\n",
    "plt.plot('carat', 'price', 'o', data = diamonds)\n",
    "plt.xlabel('Carat')\n",
    "plt.ylabel('Price')"
   ]
  },
  {
   "cell_type": "markdown",
   "id": "2b977d24-81ad-44ee-aca2-8a900d62a1a1",
   "metadata": {},
   "source": [
    "From the above, there is a positive correlation but it is also pretty messy"
   ]
  },
  {
   "cell_type": "code",
   "execution_count": 33,
   "id": "eb34aa9c-54e0-4328-adb2-21c7648c9720",
   "metadata": {},
   "outputs": [
    {
     "data": {
      "text/html": [
       "<div>\n",
       "<style scoped>\n",
       "    .dataframe tbody tr th:only-of-type {\n",
       "        vertical-align: middle;\n",
       "    }\n",
       "\n",
       "    .dataframe tbody tr th {\n",
       "        vertical-align: top;\n",
       "    }\n",
       "\n",
       "    .dataframe thead th {\n",
       "        text-align: right;\n",
       "    }\n",
       "</style>\n",
       "<table border=\"1\" class=\"dataframe\">\n",
       "  <thead>\n",
       "    <tr style=\"text-align: right;\">\n",
       "      <th></th>\n",
       "      <th>Unnamed: 0</th>\n",
       "      <th>carat</th>\n",
       "      <th>cut</th>\n",
       "      <th>color</th>\n",
       "      <th>clarity</th>\n",
       "      <th>depth</th>\n",
       "      <th>table</th>\n",
       "      <th>price</th>\n",
       "      <th>x</th>\n",
       "      <th>y</th>\n",
       "      <th>z</th>\n",
       "      <th>z_carat</th>\n",
       "      <th>z_depth</th>\n",
       "      <th>z_table</th>\n",
       "      <th>z_x</th>\n",
       "      <th>z_y</th>\n",
       "      <th>z_z</th>\n",
       "    </tr>\n",
       "  </thead>\n",
       "  <tbody>\n",
       "    <tr>\n",
       "      <th>0</th>\n",
       "      <td>1</td>\n",
       "      <td>0.23</td>\n",
       "      <td>Ideal</td>\n",
       "      <td>E</td>\n",
       "      <td>SI2</td>\n",
       "      <td>61.5</td>\n",
       "      <td>55.0</td>\n",
       "      <td>326</td>\n",
       "      <td>3.95</td>\n",
       "      <td>3.98</td>\n",
       "      <td>2.43</td>\n",
       "      <td>-1.198168</td>\n",
       "      <td>-0.174092</td>\n",
       "      <td>-1.099672</td>\n",
       "      <td>-1.587837</td>\n",
       "      <td>-1.536196</td>\n",
       "      <td>-1.571129</td>\n",
       "    </tr>\n",
       "    <tr>\n",
       "      <th>1</th>\n",
       "      <td>2</td>\n",
       "      <td>0.21</td>\n",
       "      <td>Premium</td>\n",
       "      <td>E</td>\n",
       "      <td>SI1</td>\n",
       "      <td>59.8</td>\n",
       "      <td>61.0</td>\n",
       "      <td>326</td>\n",
       "      <td>3.89</td>\n",
       "      <td>3.84</td>\n",
       "      <td>2.31</td>\n",
       "      <td>-1.240361</td>\n",
       "      <td>-1.360738</td>\n",
       "      <td>1.585529</td>\n",
       "      <td>-1.641325</td>\n",
       "      <td>-1.658774</td>\n",
       "      <td>-1.741175</td>\n",
       "    </tr>\n",
       "    <tr>\n",
       "      <th>2</th>\n",
       "      <td>3</td>\n",
       "      <td>0.23</td>\n",
       "      <td>Good</td>\n",
       "      <td>E</td>\n",
       "      <td>VS1</td>\n",
       "      <td>56.9</td>\n",
       "      <td>65.0</td>\n",
       "      <td>327</td>\n",
       "      <td>4.05</td>\n",
       "      <td>4.07</td>\n",
       "      <td>2.31</td>\n",
       "      <td>-1.198168</td>\n",
       "      <td>-3.385019</td>\n",
       "      <td>3.375663</td>\n",
       "      <td>-1.498691</td>\n",
       "      <td>-1.457395</td>\n",
       "      <td>-1.741175</td>\n",
       "    </tr>\n",
       "    <tr>\n",
       "      <th>3</th>\n",
       "      <td>4</td>\n",
       "      <td>0.29</td>\n",
       "      <td>Premium</td>\n",
       "      <td>I</td>\n",
       "      <td>VS2</td>\n",
       "      <td>62.4</td>\n",
       "      <td>58.0</td>\n",
       "      <td>334</td>\n",
       "      <td>4.20</td>\n",
       "      <td>4.23</td>\n",
       "      <td>2.63</td>\n",
       "      <td>-1.071587</td>\n",
       "      <td>0.454133</td>\n",
       "      <td>0.242928</td>\n",
       "      <td>-1.364971</td>\n",
       "      <td>-1.317305</td>\n",
       "      <td>-1.287720</td>\n",
       "    </tr>\n",
       "    <tr>\n",
       "      <th>4</th>\n",
       "      <td>5</td>\n",
       "      <td>0.31</td>\n",
       "      <td>Good</td>\n",
       "      <td>J</td>\n",
       "      <td>SI2</td>\n",
       "      <td>63.3</td>\n",
       "      <td>58.0</td>\n",
       "      <td>335</td>\n",
       "      <td>4.34</td>\n",
       "      <td>4.35</td>\n",
       "      <td>2.75</td>\n",
       "      <td>-1.029394</td>\n",
       "      <td>1.082358</td>\n",
       "      <td>0.242928</td>\n",
       "      <td>-1.240167</td>\n",
       "      <td>-1.212238</td>\n",
       "      <td>-1.117674</td>\n",
       "    </tr>\n",
       "  </tbody>\n",
       "</table>\n",
       "</div>"
      ],
      "text/plain": [
       "   Unnamed: 0  carat      cut color clarity  depth  table  price     x     y  \\\n",
       "0           1   0.23    Ideal     E     SI2   61.5   55.0    326  3.95  3.98   \n",
       "1           2   0.21  Premium     E     SI1   59.8   61.0    326  3.89  3.84   \n",
       "2           3   0.23     Good     E     VS1   56.9   65.0    327  4.05  4.07   \n",
       "3           4   0.29  Premium     I     VS2   62.4   58.0    334  4.20  4.23   \n",
       "4           5   0.31     Good     J     SI2   63.3   58.0    335  4.34  4.35   \n",
       "\n",
       "      z   z_carat   z_depth   z_table       z_x       z_y       z_z  \n",
       "0  2.43 -1.198168 -0.174092 -1.099672 -1.587837 -1.536196 -1.571129  \n",
       "1  2.31 -1.240361 -1.360738  1.585529 -1.641325 -1.658774 -1.741175  \n",
       "2  2.31 -1.198168 -3.385019  3.375663 -1.498691 -1.457395 -1.741175  \n",
       "3  2.63 -1.071587  0.454133  0.242928 -1.364971 -1.317305 -1.287720  \n",
       "4  2.75 -1.029394  1.082358  0.242928 -1.240167 -1.212238 -1.117674  "
      ]
     },
     "execution_count": 33,
     "metadata": {},
     "output_type": "execute_result"
    }
   ],
   "source": [
    "#6c - Calculate the z-score standardized values of carat, depth, table, x, y and z, and\n",
    "#store them in columns named z_carat, z_depth, z_table, z_x, z_y and z_z.\n",
    "\n",
    "diamonds['z_carat'] = stats.zscore(diamonds['carat'])\n",
    "diamonds['z_depth'] = stats.zscore(diamonds['depth'])\n",
    "diamonds['z_table'] = stats.zscore(diamonds['table'])\n",
    "diamonds['z_x'] = stats.zscore(diamonds['x'])\n",
    "diamonds['z_y'] = stats.zscore(diamonds['y'])\n",
    "diamonds['z_z'] = stats.zscore(diamonds['z'])\n",
    "\n",
    "diamonds.head()"
   ]
  },
  {
   "cell_type": "code",
   "execution_count": 40,
   "id": "72c18f1a-cf65-4a9d-8621-7a7b32195aeb",
   "metadata": {},
   "outputs": [],
   "source": [
    "#6d - Split the diamonds data-frame into training and testing. Select the first 43,000\n",
    "#observations and the standardized variables for the training dataset\n",
    "\n",
    "#Random shuffle of the observations\n",
    "diamonds = diamonds.sample(frac = 1, random_state = 823).reset_index(drop = True)\n",
    "\n",
    "scaler = StandardScaler()\n",
    "\n",
    "#Standardize features\n",
    "diamonds.iloc[:, 11:17] = scaler.fit_transform(diamonds.iloc[:, 11:17])\n",
    "\n",
    "#Split into train and test\n",
    "X_train = diamonds.loc[:42999, ['z_carat', 'z_depth', 'z_table', 'z_x', 'z_y', 'z_z']]\n",
    "Y_train = diamonds.loc[:42999, 'price']\n",
    "X_test = diamonds.loc[43000:, ['z_carat', 'z_depth', 'z_table', 'z_x', 'z_y', 'z_z']]\n",
    "Y_test = diamonds.loc[43000:, 'price']"
   ]
  },
  {
   "cell_type": "code",
   "execution_count": 41,
   "id": "74ef81bd-19f1-4f69-98ed-629db4c8a85e",
   "metadata": {},
   "outputs": [],
   "source": [
    "#6e - Build a k-NN regressor using the training dataset and 10 neighbors.\n",
    "\n",
    "from sklearn.neighbors import KNeighborsRegressor\n",
    "\n",
    "ten_nn = KNeighborsRegressor(n_neighbors = 10).fit(X_train, Y_train)"
   ]
  },
  {
   "cell_type": "code",
   "execution_count": 42,
   "id": "795b0c1c-2b91-4027-8ec9-d9f8c483d102",
   "metadata": {},
   "outputs": [],
   "source": [
    "#6f - Using the model from part (e), predict price on the testing set.\n",
    "\n",
    "predictions = ten_nn.predict(X_test)"
   ]
  },
  {
   "cell_type": "code",
   "execution_count": 46,
   "id": "3d1c2d51-654d-4a9d-844f-be101fdca261",
   "metadata": {},
   "outputs": [
    {
     "data": {
      "text/plain": [
       "Text(0, 0.5, 'Predicted Price')"
      ]
     },
     "execution_count": 46,
     "metadata": {},
     "output_type": "execute_result"
    },
    {
     "data": {
      "image/png": "[encoded data removed]",
      "text/plain": [
       "<Figure size 640x480 with 1 Axes>"
      ]
     },
     "metadata": {},
     "output_type": "display_data"
    }
   ],
   "source": [
    "#6g - Compare the predictions against the actuals by creating a scatter plot. \n",
    "\n",
    "plt.scatter(Y_test, predictions)\n",
    "plt.xlabel(\"Actual Price\")\n",
    "plt.ylabel(\"Predicted Price\")"
   ]
  },
  {
   "cell_type": "markdown",
   "id": "17153d80-0ec0-4229-88e3-1602849fd461",
   "metadata": {},
   "source": [
    "Very positive linear correlation between the 2"
   ]
  }
 ],
 "metadata": {
  "kernelspec": {
   "display_name": "Python 3 (ipykernel)",
   "language": "python",
   "name": "python3"
  },
  "language_info": {
   "codemirror_mode": {
    "name": "ipython",
    "version": 3
   },
   "file_extension": ".py",
   "mimetype": "text/x-python",
   "name": "python",
   "nbconvert_exporter": "python",
   "pygments_lexer": "ipython3",
   "version": "3.8.17"
  }
 },
 "nbformat": 4,
 "nbformat_minor": 5
}
