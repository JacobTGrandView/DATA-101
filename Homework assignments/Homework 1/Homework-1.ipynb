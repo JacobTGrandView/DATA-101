{
 "cells": [
  {
   "cell_type": "markdown",
   "id": "5c2ddd30-a831-4d26-b5ca-41caf5691c55",
   "metadata": {},
   "source": [
    "## Exercise 1 - Which of the following is not a part of data analytics process?\n",
    "\n",
    "**Software Development**"
   ]
  },
  {
   "cell_type": "markdown",
   "id": "6ef7c6f8-9302-4d0e-9de9-982435912132",
   "metadata": {},
   "source": [
    "## Exercise 2 - What is predictive modeling?\n",
    "\n",
    "**Take raw data and structure it to use in machine learning models to predict the outcome of interest**"
   ]
  },
  {
   "cell_type": "markdown",
   "id": "b4b7f612-010a-4947-9804-2ed2650c5e20",
   "metadata": {},
   "source": [
    "## Exercise 3 - What is the difference between supervised and unsupervised learning?\n",
    "\n",
    "**Supervised: Build a model that makes predictions based on historical data. A supervised learning algorithm takes a known set of input variables and a known target variable and trains a model to generate reasonable predictions for the target variable**\n",
    "\n",
    "**Unsupervised: The goal of unsupervised learning is to find patterns or intrinsic structures in a given input data set without a target variable**\n"
   ]
  },
  {
   "cell_type": "markdown",
   "id": "22148a93-d007-4d1d-b33c-5b2255cb15ce",
   "metadata": {},
   "source": [
    "## Exercise 4 - What is the difference between diagnostic and predictive analytics?\n",
    "\n",
    "**Diagnostic:  Diagnostic analytical tools aid an analyst to dig deeper into an issue at hand so that they can arrive at the source of a problem. Diagnostic asks why something happened**\n",
    "\n",
    "**Predictive: Predictive analytics helps businesses to forecast trends based on the current events, such as when something will happen or the probability of it happening. Predictive asks what will happen**\n"
   ]
  },
  {
   "cell_type": "markdown",
   "id": "ac35f0ab-b427-4526-9c51-78d18d28fd91",
   "metadata": {},
   "source": [
    "## Exercise 5 - Ice cream sales and high crime rates correlate very well during the summer season. One could argue that ice cream sales could be used in a model that predicts crime rate in the summer. This is an example of bad analytics. Explain why.\n",
    "\n",
    "**We are drawing connections that happen to be random coincidence, it would make more sense if we compared the two with temperature instead of each other**\n"
   ]
  },
  {
   "cell_type": "code",
   "execution_count": 9,
   "id": "2d706124-60f6-4e43-9e6d-654b7a621780",
   "metadata": {},
   "outputs": [
    {
     "data": {
      "text/html": [
       "<img src=\"exercise6.jpeg\" width=\"600\" height=\"300\"/>"
      ],
      "text/plain": [
       "<IPython.core.display.Image object>"
      ]
     },
     "execution_count": 9,
     "metadata": {},
     "output_type": "execute_result"
    }
   ],
   "source": [
    "### Exercise 6 ###\n",
    "from IPython.display import Image\n",
    "\n",
    "Image(url=\"exercise6.jpeg\", width=600, height=300)"
   ]
  },
  {
   "cell_type": "markdown",
   "id": "730ed76c-3e06-4e89-baaa-229cd09876e6",
   "metadata": {},
   "source": [
    "| Model 1 Outcome | Model 2 Outcome |\n",
    "| --- | --- |\n",
    "| Default | Default |\n",
    "| Default | Repay |\n",
    "| Repay | Repay |\n",
    "| Default | Default |\n",
    "| Repay | Repay |\n",
    "| Default | Default |\n",
    "| Repay | Repay |\n",
    "| Repay | Repay |\n",
    "| Default | Default |\n",
    "| Repay | Repay |"
   ]
  },
  {
   "cell_type": "code",
   "execution_count": 10,
   "id": "bea9bc7f-4001-45e1-99f1-3fe308b09569",
   "metadata": {},
   "outputs": [
    {
     "data": {
      "text/html": [
       "<img src=\"exercise7.jpeg\" width=\"600\" height=\"300\"/>"
      ],
      "text/plain": [
       "<IPython.core.display.Image object>"
      ]
     },
     "execution_count": 10,
     "metadata": {},
     "output_type": "execute_result"
    }
   ],
   "source": [
    "### Exercise 7 ###\n",
    "Image(url=\"exercise7.jpeg\", width=600, height=300)"
   ]
  },
  {
   "cell_type": "code",
   "execution_count": 11,
   "id": "1adbf141-3b93-44c4-9451-cb568c1c5bcf",
   "metadata": {},
   "outputs": [
    {
     "data": {
      "text/html": [
       "<div>\n",
       "<style scoped>\n",
       "    .dataframe tbody tr th:only-of-type {\n",
       "        vertical-align: middle;\n",
       "    }\n",
       "\n",
       "    .dataframe tbody tr th {\n",
       "        vertical-align: top;\n",
       "    }\n",
       "\n",
       "    .dataframe thead th {\n",
       "        text-align: right;\n",
       "    }\n",
       "</style>\n",
       "<table border=\"1\" class=\"dataframe\">\n",
       "  <thead>\n",
       "    <tr style=\"text-align: right;\">\n",
       "      <th></th>\n",
       "      <th>gender</th>\n",
       "      <th>race/ethnicity</th>\n",
       "      <th>parental level of education</th>\n",
       "      <th>lunch</th>\n",
       "      <th>test preparation course</th>\n",
       "      <th>math score</th>\n",
       "      <th>reading score</th>\n",
       "      <th>writing score</th>\n",
       "    </tr>\n",
       "  </thead>\n",
       "  <tbody>\n",
       "    <tr>\n",
       "      <th>0</th>\n",
       "      <td>female</td>\n",
       "      <td>group B</td>\n",
       "      <td>bachelor's degree</td>\n",
       "      <td>standard</td>\n",
       "      <td>none</td>\n",
       "      <td>72</td>\n",
       "      <td>72</td>\n",
       "      <td>74</td>\n",
       "    </tr>\n",
       "    <tr>\n",
       "      <th>1</th>\n",
       "      <td>female</td>\n",
       "      <td>group C</td>\n",
       "      <td>some college</td>\n",
       "      <td>standard</td>\n",
       "      <td>completed</td>\n",
       "      <td>69</td>\n",
       "      <td>90</td>\n",
       "      <td>88</td>\n",
       "    </tr>\n",
       "    <tr>\n",
       "      <th>2</th>\n",
       "      <td>female</td>\n",
       "      <td>group B</td>\n",
       "      <td>master's degree</td>\n",
       "      <td>standard</td>\n",
       "      <td>none</td>\n",
       "      <td>90</td>\n",
       "      <td>95</td>\n",
       "      <td>93</td>\n",
       "    </tr>\n",
       "    <tr>\n",
       "      <th>3</th>\n",
       "      <td>male</td>\n",
       "      <td>group A</td>\n",
       "      <td>associate's degree</td>\n",
       "      <td>free/reduced</td>\n",
       "      <td>none</td>\n",
       "      <td>47</td>\n",
       "      <td>57</td>\n",
       "      <td>44</td>\n",
       "    </tr>\n",
       "    <tr>\n",
       "      <th>4</th>\n",
       "      <td>male</td>\n",
       "      <td>group C</td>\n",
       "      <td>some college</td>\n",
       "      <td>standard</td>\n",
       "      <td>none</td>\n",
       "      <td>76</td>\n",
       "      <td>78</td>\n",
       "      <td>75</td>\n",
       "    </tr>\n",
       "  </tbody>\n",
       "</table>\n",
       "</div>"
      ],
      "text/plain": [
       "   gender race/ethnicity parental level of education         lunch  \\\n",
       "0  female        group B           bachelor's degree      standard   \n",
       "1  female        group C                some college      standard   \n",
       "2  female        group B             master's degree      standard   \n",
       "3    male        group A          associate's degree  free/reduced   \n",
       "4    male        group C                some college      standard   \n",
       "\n",
       "  test preparation course  math score  reading score  writing score  \n",
       "0                    none          72             72             74  \n",
       "1               completed          69             90             88  \n",
       "2                    none          90             95             93  \n",
       "3                    none          47             57             44  \n",
       "4                    none          76             78             75  "
      ]
     },
     "execution_count": 11,
     "metadata": {},
     "output_type": "execute_result"
    }
   ],
   "source": [
    "import pandas as pd\n",
    "\n",
    "students = pd.read_csv('StudentsPerformance.csv')\n",
    "students.head()"
   ]
  },
  {
   "cell_type": "code",
   "execution_count": 14,
   "id": "8bebba20-f3fa-4c47-8c51-13c188d2ff30",
   "metadata": {},
   "outputs": [
    {
     "data": {
      "text/plain": [
       "gender\n",
       "female    518\n",
       "male      482\n",
       "Name: count, dtype: int64"
      ]
     },
     "execution_count": 14,
     "metadata": {},
     "output_type": "execute_result"
    }
   ],
   "source": [
    "students['gender'].value_counts()"
   ]
  },
  {
   "cell_type": "code",
   "execution_count": 17,
   "id": "ccb6d7f1-29f2-4e70-9648-49ea8a2d4c3c",
   "metadata": {},
   "outputs": [
    {
     "data": {
      "text/plain": [
       "gender\n",
       "female    63.633205\n",
       "male      68.728216\n",
       "Name: math score, dtype: float64"
      ]
     },
     "execution_count": 17,
     "metadata": {},
     "output_type": "execute_result"
    }
   ],
   "source": [
    "students.groupby('gender')['math score'].mean()"
   ]
  }
 ],
 "metadata": {
  "kernelspec": {
   "display_name": "Python 3 (ipykernel)",
   "language": "python",
   "name": "python3"
  },
  "language_info": {
   "codemirror_mode": {
    "name": "ipython",
    "version": 3
   },
   "file_extension": ".py",
   "mimetype": "text/x-python",
   "name": "python",
   "nbconvert_exporter": "python",
   "pygments_lexer": "ipython3",
   "version": "3.8.17"
  }
 },
 "nbformat": 4,
 "nbformat_minor": 5
}
