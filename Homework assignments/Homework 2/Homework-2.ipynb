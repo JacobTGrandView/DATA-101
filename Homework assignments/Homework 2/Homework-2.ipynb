{
 "cells": [
  {
   "cell_type": "markdown",
   "id": "687e5ee4-bfe0-42ec-acdf-90ac588978ec",
   "metadata": {},
   "source": [
    "### Exercise 1 - An online movie streaming company has a business problem of growing customer churn. That is, subscription customers are canceling their subscriptions to join the competitor. Create an analytics plan that could be used to address this business problem\n",
    "\n",
    "**Answer:** Analyze the cost difference of both subscriptions. Does the new subscription have a lower price but more available movies? Are there highly-rated & popular movies that aren't on your streaming service that are on theirs. Are they offering special deals when new customers sign up, such as 3 months of free spotify premium for example. Does one service have no good movie recommendations? If the issue is bad recommendations and not knowing anything to watch, then you could analyze the data to see the most popular movies on all streaming services, then build a model to suggest the highest rated and most popular movies to the recommended page if people are not enjoying what they see. "
   ]
  },
  {
   "cell_type": "markdown",
   "id": "8e1cb74a-e7b6-46c0-903e-977fa6dd670c",
   "metadata": {},
   "source": [
    "### Exercise 2 - Although their sales are reasonable, an online fashion retailer is struggling to generate the volume of sales that they had originally hoped for when launching their site. Create an analytics plan that could be used to address this business problem.\n",
    "\n",
    "**Answer:** Analyze the store's website statistics and other websites with obtainable data to see people's browsing behavior, what part of the website they spend the most time on, what the best-selling category/thing is on your website and others and see if it can be pushed more. Analyze the average cost of each sale and sales of other stores, check the difference in prices between similar items. Are you able to slightly increase the price without seeing a drop in sales. You could build a model to suggest items based on people's history or predict the highest-selling item during different times during the year. Also, use a model to see if increasing prices would decrease sales based on other competition and demand for something."
   ]
  },
  {
   "cell_type": "markdown",
   "id": "29bb00d2-eb51-4646-8d22-a1f1f4ada121",
   "metadata": {},
   "source": [
    "### Exercise 3 - The sales of some products in your company in the past few years have been increasing and the company wants to build a marketing strategy for them. Use python for the following questions"
   ]
  },
  {
   "cell_type": "code",
   "execution_count": 1,
   "id": "1b620a57-103b-4004-8d3c-4a91b6dbab6e",
   "metadata": {},
   "outputs": [
    {
     "data": {
      "text/html": [
       "<div>\n",
       "<style scoped>\n",
       "    .dataframe tbody tr th:only-of-type {\n",
       "        vertical-align: middle;\n",
       "    }\n",
       "\n",
       "    .dataframe tbody tr th {\n",
       "        vertical-align: top;\n",
       "    }\n",
       "\n",
       "    .dataframe thead th {\n",
       "        text-align: right;\n",
       "    }\n",
       "</style>\n",
       "<table border=\"1\" class=\"dataframe\">\n",
       "  <thead>\n",
       "    <tr style=\"text-align: right;\">\n",
       "      <th></th>\n",
       "      <th>Year</th>\n",
       "      <th>Product line</th>\n",
       "      <th>Product type</th>\n",
       "      <th>Product</th>\n",
       "      <th>Order method type</th>\n",
       "      <th>Retailer country</th>\n",
       "      <th>Revenue</th>\n",
       "      <th>Planned revenue</th>\n",
       "      <th>Product cost</th>\n",
       "      <th>Quantity</th>\n",
       "      <th>Unit cost</th>\n",
       "      <th>Unit price</th>\n",
       "      <th>Gross profit</th>\n",
       "      <th>Unit sale price</th>\n",
       "    </tr>\n",
       "  </thead>\n",
       "  <tbody>\n",
       "    <tr>\n",
       "      <th>0</th>\n",
       "      <td>2004</td>\n",
       "      <td>Golf Equipment</td>\n",
       "      <td>Golf Accessories</td>\n",
       "      <td>Course Pro Golf and Tee Set</td>\n",
       "      <td>Sales visit</td>\n",
       "      <td>United States</td>\n",
       "      <td>5819.70</td>\n",
       "      <td>6586.16</td>\n",
       "      <td>1733.2</td>\n",
       "      <td>619.0</td>\n",
       "      <td>2.8</td>\n",
       "      <td>10.64</td>\n",
       "      <td>4086.50</td>\n",
       "      <td>5.105</td>\n",
       "    </tr>\n",
       "    <tr>\n",
       "      <th>1</th>\n",
       "      <td>2004</td>\n",
       "      <td>Golf Equipment</td>\n",
       "      <td>Golf Accessories</td>\n",
       "      <td>Course Pro Golf and Tee Set</td>\n",
       "      <td>Sales visit</td>\n",
       "      <td>United Kingdom</td>\n",
       "      <td>NaN</td>\n",
       "      <td>NaN</td>\n",
       "      <td>NaN</td>\n",
       "      <td>NaN</td>\n",
       "      <td>NaN</td>\n",
       "      <td>NaN</td>\n",
       "      <td>NaN</td>\n",
       "      <td>NaN</td>\n",
       "    </tr>\n",
       "    <tr>\n",
       "      <th>2</th>\n",
       "      <td>2005</td>\n",
       "      <td>Golf Equipment</td>\n",
       "      <td>Golf Accessories</td>\n",
       "      <td>Course Pro Golf and Tee Set</td>\n",
       "      <td>Sales visit</td>\n",
       "      <td>United States</td>\n",
       "      <td>10904.28</td>\n",
       "      <td>11363.52</td>\n",
       "      <td>2990.4</td>\n",
       "      <td>1068.0</td>\n",
       "      <td>2.8</td>\n",
       "      <td>10.64</td>\n",
       "      <td>7913.88</td>\n",
       "      <td>10.210</td>\n",
       "    </tr>\n",
       "    <tr>\n",
       "      <th>3</th>\n",
       "      <td>2005</td>\n",
       "      <td>Golf Equipment</td>\n",
       "      <td>Golf Accessories</td>\n",
       "      <td>Course Pro Golf and Tee Set</td>\n",
       "      <td>Sales visit</td>\n",
       "      <td>United Kingdom</td>\n",
       "      <td>27987.84</td>\n",
       "      <td>28855.68</td>\n",
       "      <td>7593.6</td>\n",
       "      <td>2712.0</td>\n",
       "      <td>2.8</td>\n",
       "      <td>10.64</td>\n",
       "      <td>20394.24</td>\n",
       "      <td>10.320</td>\n",
       "    </tr>\n",
       "    <tr>\n",
       "      <th>4</th>\n",
       "      <td>2006</td>\n",
       "      <td>Golf Equipment</td>\n",
       "      <td>Golf Accessories</td>\n",
       "      <td>Course Pro Golf and Tee Set</td>\n",
       "      <td>Sales visit</td>\n",
       "      <td>United States</td>\n",
       "      <td>NaN</td>\n",
       "      <td>NaN</td>\n",
       "      <td>NaN</td>\n",
       "      <td>NaN</td>\n",
       "      <td>NaN</td>\n",
       "      <td>NaN</td>\n",
       "      <td>NaN</td>\n",
       "      <td>NaN</td>\n",
       "    </tr>\n",
       "  </tbody>\n",
       "</table>\n",
       "</div>"
      ],
      "text/plain": [
       "   Year    Product line      Product type                      Product  \\\n",
       "0  2004  Golf Equipment  Golf Accessories  Course Pro Golf and Tee Set   \n",
       "1  2004  Golf Equipment  Golf Accessories  Course Pro Golf and Tee Set   \n",
       "2  2005  Golf Equipment  Golf Accessories  Course Pro Golf and Tee Set   \n",
       "3  2005  Golf Equipment  Golf Accessories  Course Pro Golf and Tee Set   \n",
       "4  2006  Golf Equipment  Golf Accessories  Course Pro Golf and Tee Set   \n",
       "\n",
       "  Order method type Retailer country   Revenue  Planned revenue  Product cost  \\\n",
       "0       Sales visit    United States   5819.70          6586.16        1733.2   \n",
       "1       Sales visit   United Kingdom       NaN              NaN           NaN   \n",
       "2       Sales visit    United States  10904.28         11363.52        2990.4   \n",
       "3       Sales visit   United Kingdom  27987.84         28855.68        7593.6   \n",
       "4       Sales visit    United States       NaN              NaN           NaN   \n",
       "\n",
       "   Quantity  Unit cost  Unit price  Gross profit  Unit sale price  \n",
       "0     619.0        2.8       10.64       4086.50            5.105  \n",
       "1       NaN        NaN         NaN           NaN              NaN  \n",
       "2    1068.0        2.8       10.64       7913.88           10.210  \n",
       "3    2712.0        2.8       10.64      20394.24           10.320  \n",
       "4       NaN        NaN         NaN           NaN              NaN  "
      ]
     },
     "execution_count": 1,
     "metadata": {},
     "output_type": "execute_result"
    }
   ],
   "source": [
    "# 3a - Using pandas, read the csv file called sales.csv and create a data-frame called sales.\n",
    "\n",
    "import pandas as pd\n",
    "sales = pd.read_csv('sales.csv')\n",
    "sales.head()"
   ]
  },
  {
   "cell_type": "code",
   "execution_count": 2,
   "id": "cb23e78b-9bb2-4f5a-bafc-567098bef4d1",
   "metadata": {},
   "outputs": [
    {
     "data": {
      "text/plain": [
       "Year                 17823\n",
       "Product line         17823\n",
       "Product type         17823\n",
       "Product              17823\n",
       "Order method type    17823\n",
       "Retailer country     17823\n",
       "Revenue               6045\n",
       "Planned revenue       6045\n",
       "Product cost          6045\n",
       "Quantity              5860\n",
       "Unit cost             6045\n",
       "Unit price            6045\n",
       "Gross profit          6045\n",
       "Unit sale price       6045\n",
       "dtype: int64"
      ]
     },
     "execution_count": 2,
     "metadata": {},
     "output_type": "execute_result"
    }
   ],
   "source": [
    "# 3b - Report the number of observations and variables in the sales data-frame.\n",
    "\n",
    "sales.count()"
   ]
  },
  {
   "cell_type": "code",
   "execution_count": 7,
   "id": "8fd03b91-0e66-4f68-aa8c-061ba2dec753",
   "metadata": {},
   "outputs": [
    {
     "data": {
      "text/plain": [
       "Product\n",
       "TrailChef Canteen                  588\n",
       "TrailChef Cook Set                 588\n",
       "TrailChef Kettle                   588\n",
       "TrailChef Cup                      588\n",
       "TrailChef Double Flame             588\n",
       "TrailChef Single Flame             588\n",
       "TrailChef Utensils                 588\n",
       "TrailChef Kitchen Kit              588\n",
       "TrailChef Water Bag                588\n",
       "TrailChef Deluxe Cook Set          588\n",
       "Granite Pulley                     441\n",
       "Granite Belay                      441\n",
       "Hibernator Extreme                 441\n",
       "Aloe Relief                        441\n",
       "Calamine Relief                    441\n",
       "BugShield Extreme                  441\n",
       "BugShield Lotion                   441\n",
       "BugShield Spray                    441\n",
       "BugShield Natural                  441\n",
       "Hibernator Pillow                  441\n",
       "Hibernator Pad                     441\n",
       "Firefly Charger                    441\n",
       "Granite Carabiner                  441\n",
       "Course Pro Golf and Tee Set        441\n",
       "Hibernator Lite                    441\n",
       "Hibernator Self - Inflating Mat    441\n",
       "Granite Chalk Bag                  441\n",
       "Firefly Rechargeable Battery       441\n",
       "Firefly Climbing Lamp              441\n",
       "Course Pro Gloves                  441\n",
       "Course Pro Umbrella                441\n",
       "Insect Bite Relief                 441\n",
       "Compact Relief Kit                 441\n",
       "BugShield Lotion Lite              441\n",
       "Hibernator Camp Cot                441\n",
       "Course Pro Golf Bag                441\n",
       "Deluxe Family Relief Kit           441\n",
       "Hibernator                          36\n",
       "Name: count, dtype: int64"
      ]
     },
     "execution_count": 7,
     "metadata": {},
     "output_type": "execute_result"
    }
   ],
   "source": [
    "# 3c - Using the appropriate Python commands, create a frequency table of the Product variable. \n",
    "# Report the least popular Product.\n",
    "\n",
    "sales['Product'].value_counts()"
   ]
  },
  {
   "cell_type": "markdown",
   "id": "d4c8ea82-e0e6-4752-bcdf-950589f06208",
   "metadata": {},
   "source": [
    "From the above, We see that Hibernator has the least amount of product"
   ]
  },
  {
   "cell_type": "code",
   "execution_count": 31,
   "id": "cbfeb426-6c13-4db5-91a3-54d78a612bbb",
   "metadata": {},
   "outputs": [
    {
     "name": "stdout",
     "output_type": "stream",
     "text": [
      "Product\n",
      "Calamine Relief                      346881.06\n",
      "Aloe Relief                          430621.58\n",
      "Insect Bite Relief                   527099.46\n",
      "Granite Chalk Bag                   1193395.93\n",
      "BugShield Lotion Lite               1786866.52\n",
      "Deluxe Family Relief Kit            2040513.45\n",
      "Firefly Climbing Lamp               2062131.59\n",
      "Compact Relief Kit                  2205323.06\n",
      "Hibernator Pillow                   2545730.10\n",
      "BugShield Spray                     2771923.32\n",
      "BugShield Lotion                    3243762.97\n",
      "Granite Carabiner                   3578264.20\n",
      "Firefly Rechargeable Battery        3847773.43\n",
      "Hibernator                          4007460.99\n",
      "TrailChef Cup                       4157413.39\n",
      "BugShield Natural                   4522549.50\n",
      "Course Pro Gloves                   4621161.67\n",
      "Course Pro Umbrella                 4655034.55\n",
      "Granite Pulley                      4723246.67\n",
      "TrailChef Canteen                   4725613.87\n",
      "Course Pro Golf and Tee Set         5052264.98\n",
      "Granite Belay                       5239857.13\n",
      "Firefly Charger                     5746391.78\n",
      "TrailChef Kitchen Kit               5927386.83\n",
      "Hibernator Pad                      6280309.86\n",
      "TrailChef Utensils                  7346612.23\n",
      "Hibernator Camp Cot                 8247605.24\n",
      "BugShield Extreme                  10501970.95\n",
      "Course Pro Golf Bag                10509106.96\n",
      "TrailChef Single Flame             11350274.22\n",
      "TrailChef Water Bag                11765136.08\n",
      "Hibernator Lite                    12442031.09\n",
      "TrailChef Cook Set                 12878820.69\n",
      "TrailChef Kettle                   13994981.90\n",
      "TrailChef Double Flame             15894249.84\n",
      "TrailChef Deluxe Cook Set          17667348.61\n",
      "Hibernator Self - Inflating Mat    18192996.57\n",
      "Hibernator Extreme                 25093379.13\n",
      "Name: Gross profit, dtype: float64\n"
     ]
    }
   ],
   "source": [
    "sales_profit = sales.groupby('Product')['Gross profit'].sum()\n",
    "profit_order = sales_profit.sort_values()\n",
    "print(profit_order)"
   ]
  },
  {
   "cell_type": "markdown",
   "id": "e6d60003-b024-4819-9412-bbd4cb37c0c8",
   "metadata": {},
   "source": [
    "From the above, we see that Calamine relief has the least profit.\n",
    "Also, we see that Hibernator Extreme has the most profit"
   ]
  },
  {
   "cell_type": "code",
   "execution_count": 64,
   "id": "9a335341-529d-4ec3-b78a-0d728e6868ac",
   "metadata": {},
   "outputs": [
    {
     "data": {
      "text/plain": [
       "count    6.045000e+03\n",
       "mean     1.038455e+05\n",
       "std      1.836042e+05\n",
       "min      0.000000e+00\n",
       "25%      1.364924e+04\n",
       "50%      4.154119e+04\n",
       "75%      1.120026e+05\n",
       "max      3.644349e+06\n",
       "Name: Revenue, dtype: float64"
      ]
     },
     "execution_count": 64,
     "metadata": {},
     "output_type": "execute_result"
    }
   ],
   "source": [
    "# 3d - Using the appropriate Python commands, compute the summary statistics of Revenue.\n",
    "\n",
    "sales['Revenue'].describe()"
   ]
  },
  {
   "cell_type": "code",
   "execution_count": 34,
   "id": "cd8d16fe-d7f0-4b50-98c9-a4528f2d4d23",
   "metadata": {},
   "outputs": [
    {
     "data": {
      "text/plain": [
       "Product type\n",
       "Cooking Gear            5880\n",
       "Climbing Accessories    3087\n",
       "Sleeping Bags           2682\n",
       "First Aid               2205\n",
       "Insect Repellents       2205\n",
       "Golf Accessories        1764\n",
       "Name: count, dtype: int64"
      ]
     },
     "execution_count": 34,
     "metadata": {},
     "output_type": "execute_result"
    }
   ],
   "source": [
    "# 3e -  Using the appropriate Python commands, create a frequency table of the Product type variable.\n",
    "# Report the most popular Product type.\n",
    "\n",
    "sales['Product type'].value_counts()"
   ]
  },
  {
   "cell_type": "markdown",
   "id": "4ec52828-2552-46fc-ab5c-6c22ece38474",
   "metadata": {},
   "source": [
    "From the above, we see the most popular product type is cooking gear"
   ]
  },
  {
   "cell_type": "code",
   "execution_count": 51,
   "id": "1d7868b0-f42a-47f2-a031-a59ede0fe3e4",
   "metadata": {},
   "outputs": [
    {
     "name": "stdout",
     "output_type": "stream",
     "text": [
      "Year\n",
      "2007    6.112591e+07\n",
      "2004    1.528977e+08\n",
      "2005    1.908502e+08\n",
      "2006    2.228721e+08\n",
      "Name: Revenue, dtype: float64\n"
     ]
    }
   ],
   "source": [
    "# 3f - Compute the total Revenue by Year. What year has the highest revenue?\n",
    "\n",
    "rev_year = sales.groupby('Year')['Revenue'].sum()\n",
    "rev_year_ = rev_year.sort_values()\n",
    "print(rev_year_)"
   ]
  },
  {
   "cell_type": "markdown",
   "id": "211db585-e6ca-420e-b50a-ce9bac8072a4",
   "metadata": {},
   "source": [
    "From the above, we see that 2006 had the highest revenue"
   ]
  },
  {
   "cell_type": "code",
   "execution_count": 52,
   "id": "afced0a3-4cdc-44fe-afb9-d460206171f8",
   "metadata": {},
   "outputs": [
    {
     "name": "stdout",
     "output_type": "stream",
     "text": [
      "Order method type\n",
      "Special        6.642340e+06\n",
      "Mail           9.749679e+06\n",
      "Fax            1.376507e+07\n",
      "E-mail         3.238293e+07\n",
      "Sales visit    6.946909e+07\n",
      "Telephone      7.056328e+07\n",
      "Web            4.251736e+08\n",
      "Name: Revenue, dtype: float64\n"
     ]
    }
   ],
   "source": [
    "# 3g - Compute the total Revenue by Order method type. What channel has the highest revenue?\n",
    "\n",
    "rev_order_type = sales.groupby('Order method type')['Revenue'].sum()\n",
    "rev_order_type_ = rev_order_type.sort_values()\n",
    "print(rev_order_type_)"
   ]
  },
  {
   "cell_type": "markdown",
   "id": "9f644368-bf18-404f-b02e-079471257b10",
   "metadata": {},
   "source": [
    "From the above, we see that Web is the order method type with the highest revenue"
   ]
  },
  {
   "cell_type": "markdown",
   "id": "7f1fa79d-51f0-46cd-873a-36c801213bf0",
   "metadata": {},
   "source": [
    "### Exercise 4 - What is exploratory analysis and why it is important.\n",
    "\n",
    "**Answer:** It is the stage of analyzing data sets to summarize their main characteristics with tables and visual tools, and to be able to understand the data you are working with so it is easier when you need to make models."
   ]
  },
  {
   "cell_type": "markdown",
   "id": "d9a44152-0af4-4b2a-8192-50c9e24572d9",
   "metadata": {},
   "source": [
    "### Exercise 5 - Suppose you work for a cloud storage company and you analyze the amount of content uploaded every month. During early November, you notice a spike in picture uploads. What could be the cause of the spike? Answering this question is what type of data analytics?\n",
    "\n",
    "**Answer:** This type of question is diagnostic analytics because you are answering why something happened. You use descriptive analytics to show the spike on a chart. The cause for the spike could be because of upcoming holidays\n"
   ]
  },
  {
   "cell_type": "markdown",
   "id": "89310277-435e-47a7-9fef-d0e01d9e1913",
   "metadata": {},
   "source": [
    "### Exercise 6 - Let the data x be given by\n",
    "\n",
    "import numpy as np\n",
    "x = np.array([1, 8, 2, 6, 3, 8, 5, 5, 5, 5])\n",
    "\n",
    "Answer the following below"
   ]
  },
  {
   "cell_type": "code",
   "execution_count": 53,
   "id": "31de4970-a276-42d2-902a-13c67ed6f886",
   "metadata": {},
   "outputs": [],
   "source": [
    "# 6a - Create array x \n",
    "\n",
    "import numpy as np\n",
    "x = np.array([1, 8, 2, 6, 3, 8, 5, 5, 5, 5])"
   ]
  },
  {
   "cell_type": "code",
   "execution_count": 55,
   "id": "1698009b-bf55-4ddf-afc3-4caa030fae3a",
   "metadata": {},
   "outputs": [
    {
     "name": "stdout",
     "output_type": "stream",
     "text": [
      "Mean is :  4.8\n"
     ]
    }
   ],
   "source": [
    "# 6b - Find mean of x\n",
    "\n",
    "x_mean = np.mean(x)\n",
    "print('Mean is : ', x_mean)"
   ]
  },
  {
   "cell_type": "code",
   "execution_count": 56,
   "id": "ead7fa83-8c1e-4863-9e63-8ee0b13fa329",
   "metadata": {},
   "outputs": [
    {
     "name": "stdout",
     "output_type": "stream",
     "text": [
      "Standard deviation is:  2.181742422927143\n"
     ]
    }
   ],
   "source": [
    "# 6c - Compute the standard deviation of x\n",
    "\n",
    "x_std = np.std(x)\n",
    "print('Standard deviation is: ', x_std)"
   ]
  },
  {
   "cell_type": "code",
   "execution_count": 61,
   "id": "dd34cb34-c215-4dab-9a72-2dfb7c0e3ae5",
   "metadata": {},
   "outputs": [
    {
     "data": {
      "text/plain": [
       "2.2997584414213788"
      ]
     },
     "execution_count": 61,
     "metadata": {},
     "output_type": "execute_result"
    }
   ],
   "source": [
    "#Standard deviation of x with degrees of freedom = 1\n",
    "np.std(x, ddof = 1) "
   ]
  },
  {
   "cell_type": "code",
   "execution_count": 63,
   "id": "3d47fae3-d462-40de-a4f2-55951cf992da",
   "metadata": {},
   "outputs": [
    {
     "name": "stdout",
     "output_type": "stream",
     "text": [
      "14.180153671552182\n"
     ]
    }
   ],
   "source": [
    "# 6d - sum of log of x\n",
    "\n",
    "q6d = np.sum(np.log(x))\n",
    "print(q6d)"
   ]
  },
  {
   "cell_type": "code",
   "execution_count": 62,
   "id": "404f093a-8ff9-4183-af7d-d1c2b6f9aa5b",
   "metadata": {},
   "outputs": [
    {
     "name": "stdout",
     "output_type": "stream",
     "text": [
      "IQR is:  2.25\n"
     ]
    }
   ],
   "source": [
    "# 6e - IQR of x \n",
    "\n",
    "IQR_x = np.percentile(x, 75) - np.percentile(x,  25)\n",
    "print('IQR is: ', IQR_x)"
   ]
  }
 ],
 "metadata": {
  "kernelspec": {
   "display_name": "Python 3 (ipykernel)",
   "language": "python",
   "name": "python3"
  },
  "language_info": {
   "codemirror_mode": {
    "name": "ipython",
    "version": 3
   },
   "file_extension": ".py",
   "mimetype": "text/x-python",
   "name": "python",
   "nbconvert_exporter": "python",
   "pygments_lexer": "ipython3",
   "version": "3.8.17"
  }
 },
 "nbformat": 4,
 "nbformat_minor": 5
}
