{
 "cells": [
  {
   "cell_type": "markdown",
   "id": "d85f4d28-ab51-4b36-b3b5-8f2f89b90b65",
   "metadata": {},
   "source": [
    "### Exercise 1 - What is the difference between histograms and bar charts? Explain.\r\n",
    "**Answer:** Bar charts are distributions of categorical data, and they have gaps between the bars. Histograms are for quantitative data, and the bars are connected in intervals"
   ]
  },
  {
   "cell_type": "markdown",
   "id": "076dd1bf-0eb1-4555-89b9-f999eec1183f",
   "metadata": {},
   "source": [
    "### Exercise 2 - Data on 1,500 students’ height were collected at a larger university in the East Coast. Which of the following is the best chart for presenting the information?\n",
    "\n",
    "**Answer:** Histogram"
   ]
  },
  {
   "cell_type": "markdown",
   "id": "ba17166e-6d66-45be-92d2-969cb22ac769",
   "metadata": {},
   "source": [
    "### Exercise 3 - Which of the following statements about the median is not true?\n",
    "\n",
    "**Answer:** A) It is more affected by extreme values than the arithmetic mean."
   ]
  },
  {
   "cell_type": "markdown",
   "id": "bcfb3889-c29c-4a5e-ac4a-0d7bf8c2e635",
   "metadata": {},
   "source": [
    "### Exercise 4 - Which of the following statistics can not be determined from a box-plot?\r\n",
    "**Answer:** B) The mean"
   ]
  },
  {
   "cell_type": "markdown",
   "id": "fe8a04ed-a5d4-471e-b44d-b55d3df10dce",
   "metadata": {},
   "source": [
    "### Exercise 5\n",
    "\n",
    "5a) Range -> 10.08 - 0.066 = 10.014  <br>   IQR -> 6.02 - 1.42 = 4.6\n",
    "\n",
    "5b) Yes, you can plot the min and draw whiskers to q1, then plot q2 and q3 and draw the box around q1 to q3, then draw whiskers from q3 to the max. The only thing you wouldn't know from this is the outliers"
   ]
  },
  {
   "cell_type": "markdown",
   "id": "c164299a-c60c-46b4-a1be-48593caffaf2",
   "metadata": {},
   "source": [
    "### Exercise 6 - If the largest value of a data set is doubled, which of the following is FALSE?\r\n",
    "**Answer:** C) The interquartile range increasse"
   ]
  },
  {
   "cell_type": "markdown",
   "id": "1e248429-95fb-474f-a9dd-a0c6eddb02f3",
   "metadata": {},
   "source": [
    "### The five-number summary for scores on a DATA-101 exam are: Min = 35, Q1 = 68, Q2 = 77, Q3 = 83, Max = 97. In all 196 students took the test. About how many had scores between 77 and 83?\n",
    "\n",
    "**Answer:** 49 students"
   ]
  },
  {
   "cell_type": "markdown",
   "id": "9df9214c-2328-4517-bd62-09735596ada8",
   "metadata": {},
   "source": [
    "### Exercise 8 - Answer the following below using the automobile dataset"
   ]
  },
  {
   "cell_type": "code",
   "execution_count": 20,
   "id": "1cae7d68-1824-44e6-b52e-1e40b0aef711",
   "metadata": {},
   "outputs": [
    {
     "data": {
      "text/html": [
       "<div>\n",
       "<style scoped>\n",
       "    .dataframe tbody tr th:only-of-type {\n",
       "        vertical-align: middle;\n",
       "    }\n",
       "\n",
       "    .dataframe tbody tr th {\n",
       "        vertical-align: top;\n",
       "    }\n",
       "\n",
       "    .dataframe thead th {\n",
       "        text-align: right;\n",
       "    }\n",
       "</style>\n",
       "<table border=\"1\" class=\"dataframe\">\n",
       "  <thead>\n",
       "    <tr style=\"text-align: right;\">\n",
       "      <th></th>\n",
       "      <th>index</th>\n",
       "      <th>company</th>\n",
       "      <th>body-style</th>\n",
       "      <th>wheel-base</th>\n",
       "      <th>length</th>\n",
       "      <th>engine-type</th>\n",
       "      <th>num-of-cylinders</th>\n",
       "      <th>horsepower</th>\n",
       "      <th>average-mileage</th>\n",
       "      <th>price</th>\n",
       "    </tr>\n",
       "  </thead>\n",
       "  <tbody>\n",
       "    <tr>\n",
       "      <th>0</th>\n",
       "      <td>0</td>\n",
       "      <td>alfa-romero</td>\n",
       "      <td>convertible</td>\n",
       "      <td>88.6</td>\n",
       "      <td>168.8</td>\n",
       "      <td>dohc</td>\n",
       "      <td>four</td>\n",
       "      <td>111</td>\n",
       "      <td>21</td>\n",
       "      <td>13495.0</td>\n",
       "    </tr>\n",
       "    <tr>\n",
       "      <th>1</th>\n",
       "      <td>1</td>\n",
       "      <td>alfa-romero</td>\n",
       "      <td>convertible</td>\n",
       "      <td>88.6</td>\n",
       "      <td>168.8</td>\n",
       "      <td>dohc</td>\n",
       "      <td>four</td>\n",
       "      <td>111</td>\n",
       "      <td>21</td>\n",
       "      <td>16500.0</td>\n",
       "    </tr>\n",
       "    <tr>\n",
       "      <th>2</th>\n",
       "      <td>2</td>\n",
       "      <td>alfa-romero</td>\n",
       "      <td>hatchback</td>\n",
       "      <td>94.5</td>\n",
       "      <td>171.2</td>\n",
       "      <td>ohcv</td>\n",
       "      <td>six</td>\n",
       "      <td>154</td>\n",
       "      <td>19</td>\n",
       "      <td>16500.0</td>\n",
       "    </tr>\n",
       "    <tr>\n",
       "      <th>3</th>\n",
       "      <td>3</td>\n",
       "      <td>audi</td>\n",
       "      <td>sedan</td>\n",
       "      <td>99.8</td>\n",
       "      <td>176.6</td>\n",
       "      <td>ohc</td>\n",
       "      <td>four</td>\n",
       "      <td>102</td>\n",
       "      <td>24</td>\n",
       "      <td>13950.0</td>\n",
       "    </tr>\n",
       "    <tr>\n",
       "      <th>4</th>\n",
       "      <td>4</td>\n",
       "      <td>audi</td>\n",
       "      <td>sedan</td>\n",
       "      <td>99.4</td>\n",
       "      <td>176.6</td>\n",
       "      <td>ohc</td>\n",
       "      <td>five</td>\n",
       "      <td>115</td>\n",
       "      <td>18</td>\n",
       "      <td>17450.0</td>\n",
       "    </tr>\n",
       "  </tbody>\n",
       "</table>\n",
       "</div>"
      ],
      "text/plain": [
       "   index      company   body-style  wheel-base  length engine-type  \\\n",
       "0      0  alfa-romero  convertible        88.6   168.8        dohc   \n",
       "1      1  alfa-romero  convertible        88.6   168.8        dohc   \n",
       "2      2  alfa-romero    hatchback        94.5   171.2        ohcv   \n",
       "3      3         audi        sedan        99.8   176.6         ohc   \n",
       "4      4         audi        sedan        99.4   176.6         ohc   \n",
       "\n",
       "  num-of-cylinders  horsepower  average-mileage    price  \n",
       "0             four         111               21  13495.0  \n",
       "1             four         111               21  16500.0  \n",
       "2              six         154               19  16500.0  \n",
       "3             four         102               24  13950.0  \n",
       "4             five         115               18  17450.0  "
      ]
     },
     "execution_count": 20,
     "metadata": {},
     "output_type": "execute_result"
    }
   ],
   "source": [
    "#8a -  Using the pandas library, read the csv datafile and create a data-frame called autos.\n",
    "\n",
    "import pandas as pd\n",
    "import numpy as np\n",
    "\n",
    "autos = pd.read_csv('Automobile_data(8).csv')\n",
    "autos.head()"
   ]
  },
  {
   "cell_type": "code",
   "execution_count": 21,
   "id": "50dfdafc-0768-4994-b5c4-fde793e6b459",
   "metadata": {},
   "outputs": [
    {
     "data": {
      "text/plain": [
       "index               61\n",
       "company             61\n",
       "body-style          61\n",
       "wheel-base          61\n",
       "length              61\n",
       "engine-type         61\n",
       "num-of-cylinders    61\n",
       "horsepower          61\n",
       "average-mileage     61\n",
       "price               58\n",
       "dtype: int64"
      ]
     },
     "execution_count": 21,
     "metadata": {},
     "output_type": "execute_result"
    }
   ],
   "source": [
    "#8b - Using the appropriate commands, report the number of observations and variables.\n",
    "\n",
    "autos.count()"
   ]
  },
  {
   "cell_type": "code",
   "execution_count": 22,
   "id": "59b8a7cc-520b-4946-92ea-49e72f4d10bf",
   "metadata": {},
   "outputs": [
    {
     "data": {
      "text/plain": [
       "Text(0, 0.5, 'Frequency')"
      ]
     },
     "execution_count": 22,
     "metadata": {},
     "output_type": "execute_result"
    },
    {
     "data": {
      "image/png": "[encoded data removed]",
      "text/plain": [
       "<Figure size 640x480 with 1 Axes>"
      ]
     },
     "metadata": {},
     "output_type": "display_data"
    }
   ],
   "source": [
    "#8c - Create a bar chart of body-style. Comment on the chart.\n",
    "\n",
    "import matplotlib.pyplot as plt; plt.style.use('ggplot')\n",
    "\n",
    "autos['body-style'].value_counts().plot(kind = 'bar')\n",
    "plt.ylabel('Frequency')"
   ]
  },
  {
   "cell_type": "markdown",
   "id": "b7ded406-a8e1-4c88-aeca-2c6be1c36a80",
   "metadata": {},
   "source": [
    "From the above, we see that sedan is the most common body-style, followed by hatchback with a little over half of that. The least common is hardtop"
   ]
  },
  {
   "cell_type": "code",
   "execution_count": 23,
   "id": "6b187609-4ac2-4075-8bbb-0a9bb48d0c93",
   "metadata": {},
   "outputs": [
    {
     "data": {
      "text/plain": [
       "Text(0, 0.5, 'Price $')"
      ]
     },
     "execution_count": 23,
     "metadata": {},
     "output_type": "execute_result"
    },
    {
     "data": {
      "image/png": "[encoded data removed]",
      "text/plain": [
       "<Figure size 640x480 with 1 Axes>"
      ]
     },
     "metadata": {},
     "output_type": "display_data"
    }
   ],
   "source": [
    "#8d - Create a boxplot of price. Comment on the plot.\n",
    "\n",
    "autos['price'].plot(kind = 'box')\n",
    "plt.ylabel('Price $')"
   ]
  },
  {
   "cell_type": "markdown",
   "id": "748990c9-fb98-4aed-81d2-ac9fb80543a3",
   "metadata": {},
   "source": [
    "From the above, we see the min price is about 5,000 & the max is about 34,000. The IQR is between 7,000 and 18,000. The median is about 11,500."
   ]
  },
  {
   "cell_type": "code",
   "execution_count": 24,
   "id": "01b8f7b0-5663-45f6-8585-a3e8378da58a",
   "metadata": {},
   "outputs": [
    {
     "data": {
      "text/plain": [
       "Text(0, 0.5, 'average mileage')"
      ]
     },
     "execution_count": 24,
     "metadata": {},
     "output_type": "execute_result"
    },
    {
     "data": {
      "image/png": "[encoded data removed]",
      "text/plain": [
       "<Figure size 640x480 with 1 Axes>"
      ]
     },
     "metadata": {},
     "output_type": "display_data"
    }
   ],
   "source": [
    "#8e - Create a scatter-plot between horsepower and average-mileage. Comment on the plot.\n",
    "\n",
    "plt.plot('horsepower', 'average-mileage', 'o', data = autos)\n",
    "plt.xlabel('horsepower')\n",
    "plt.ylabel('average mileage')"
   ]
  },
  {
   "cell_type": "markdown",
   "id": "3f2bf5f3-bb97-41ec-93c4-c54ed48f5bf2",
   "metadata": {},
   "source": [
    "From the above, there is a somewhat scattered negative correlation between horsepower and average mileage"
   ]
  },
  {
   "cell_type": "markdown",
   "id": "32ae00e0-8e50-4184-bb0c-a747e20937fa",
   "metadata": {},
   "source": [
    "### Exercise 9 - Answer the following below using the Wisconsin breast cancer dataset"
   ]
  },
  {
   "cell_type": "code",
   "execution_count": 25,
   "id": "35e3cf18-0b11-437f-8839-0f997a51e3a2",
   "metadata": {},
   "outputs": [
    {
     "data": {
      "text/html": [
       "<div>\n",
       "<style scoped>\n",
       "    .dataframe tbody tr th:only-of-type {\n",
       "        vertical-align: middle;\n",
       "    }\n",
       "\n",
       "    .dataframe tbody tr th {\n",
       "        vertical-align: top;\n",
       "    }\n",
       "\n",
       "    .dataframe thead th {\n",
       "        text-align: right;\n",
       "    }\n",
       "</style>\n",
       "<table border=\"1\" class=\"dataframe\">\n",
       "  <thead>\n",
       "    <tr style=\"text-align: right;\">\n",
       "      <th></th>\n",
       "      <th>id</th>\n",
       "      <th>diagnosis</th>\n",
       "      <th>radius_mean</th>\n",
       "      <th>texture_mean</th>\n",
       "      <th>perimeter_mean</th>\n",
       "      <th>area_mean</th>\n",
       "      <th>smoothness_mean</th>\n",
       "      <th>compactness_mean</th>\n",
       "      <th>concavity_mean</th>\n",
       "      <th>concave points_mean</th>\n",
       "      <th>...</th>\n",
       "      <th>radius_worst</th>\n",
       "      <th>texture_worst</th>\n",
       "      <th>perimeter_worst</th>\n",
       "      <th>area_worst</th>\n",
       "      <th>smoothness_worst</th>\n",
       "      <th>compactness_worst</th>\n",
       "      <th>concavity_worst</th>\n",
       "      <th>concave points_worst</th>\n",
       "      <th>symmetry_worst</th>\n",
       "      <th>fractal_dimension_worst</th>\n",
       "    </tr>\n",
       "  </thead>\n",
       "  <tbody>\n",
       "    <tr>\n",
       "      <th>0</th>\n",
       "      <td>842302</td>\n",
       "      <td>M</td>\n",
       "      <td>17.99</td>\n",
       "      <td>10.38</td>\n",
       "      <td>122.80</td>\n",
       "      <td>1001.0</td>\n",
       "      <td>0.11840</td>\n",
       "      <td>0.27760</td>\n",
       "      <td>0.3001</td>\n",
       "      <td>0.14710</td>\n",
       "      <td>...</td>\n",
       "      <td>25.38</td>\n",
       "      <td>17.33</td>\n",
       "      <td>184.60</td>\n",
       "      <td>2019.0</td>\n",
       "      <td>0.1622</td>\n",
       "      <td>0.6656</td>\n",
       "      <td>0.7119</td>\n",
       "      <td>0.2654</td>\n",
       "      <td>0.4601</td>\n",
       "      <td>0.11890</td>\n",
       "    </tr>\n",
       "    <tr>\n",
       "      <th>1</th>\n",
       "      <td>842517</td>\n",
       "      <td>M</td>\n",
       "      <td>20.57</td>\n",
       "      <td>17.77</td>\n",
       "      <td>132.90</td>\n",
       "      <td>1326.0</td>\n",
       "      <td>0.08474</td>\n",
       "      <td>0.07864</td>\n",
       "      <td>0.0869</td>\n",
       "      <td>0.07017</td>\n",
       "      <td>...</td>\n",
       "      <td>24.99</td>\n",
       "      <td>23.41</td>\n",
       "      <td>158.80</td>\n",
       "      <td>1956.0</td>\n",
       "      <td>0.1238</td>\n",
       "      <td>0.1866</td>\n",
       "      <td>0.2416</td>\n",
       "      <td>0.1860</td>\n",
       "      <td>0.2750</td>\n",
       "      <td>0.08902</td>\n",
       "    </tr>\n",
       "    <tr>\n",
       "      <th>2</th>\n",
       "      <td>84300903</td>\n",
       "      <td>M</td>\n",
       "      <td>19.69</td>\n",
       "      <td>21.25</td>\n",
       "      <td>130.00</td>\n",
       "      <td>1203.0</td>\n",
       "      <td>0.10960</td>\n",
       "      <td>0.15990</td>\n",
       "      <td>0.1974</td>\n",
       "      <td>0.12790</td>\n",
       "      <td>...</td>\n",
       "      <td>23.57</td>\n",
       "      <td>25.53</td>\n",
       "      <td>152.50</td>\n",
       "      <td>1709.0</td>\n",
       "      <td>0.1444</td>\n",
       "      <td>0.4245</td>\n",
       "      <td>0.4504</td>\n",
       "      <td>0.2430</td>\n",
       "      <td>0.3613</td>\n",
       "      <td>0.08758</td>\n",
       "    </tr>\n",
       "    <tr>\n",
       "      <th>3</th>\n",
       "      <td>84348301</td>\n",
       "      <td>M</td>\n",
       "      <td>11.42</td>\n",
       "      <td>20.38</td>\n",
       "      <td>77.58</td>\n",
       "      <td>386.1</td>\n",
       "      <td>0.14250</td>\n",
       "      <td>0.28390</td>\n",
       "      <td>0.2414</td>\n",
       "      <td>0.10520</td>\n",
       "      <td>...</td>\n",
       "      <td>14.91</td>\n",
       "      <td>26.50</td>\n",
       "      <td>98.87</td>\n",
       "      <td>567.7</td>\n",
       "      <td>0.2098</td>\n",
       "      <td>0.8663</td>\n",
       "      <td>0.6869</td>\n",
       "      <td>0.2575</td>\n",
       "      <td>0.6638</td>\n",
       "      <td>0.17300</td>\n",
       "    </tr>\n",
       "    <tr>\n",
       "      <th>4</th>\n",
       "      <td>84358402</td>\n",
       "      <td>M</td>\n",
       "      <td>20.29</td>\n",
       "      <td>14.34</td>\n",
       "      <td>135.10</td>\n",
       "      <td>1297.0</td>\n",
       "      <td>0.10030</td>\n",
       "      <td>0.13280</td>\n",
       "      <td>0.1980</td>\n",
       "      <td>0.10430</td>\n",
       "      <td>...</td>\n",
       "      <td>22.54</td>\n",
       "      <td>16.67</td>\n",
       "      <td>152.20</td>\n",
       "      <td>1575.0</td>\n",
       "      <td>0.1374</td>\n",
       "      <td>0.2050</td>\n",
       "      <td>0.4000</td>\n",
       "      <td>0.1625</td>\n",
       "      <td>0.2364</td>\n",
       "      <td>0.07678</td>\n",
       "    </tr>\n",
       "  </tbody>\n",
       "</table>\n",
       "<p>5 rows × 32 columns</p>\n",
       "</div>"
      ],
      "text/plain": [
       "         id diagnosis  radius_mean  texture_mean  perimeter_mean  area_mean  \\\n",
       "0    842302         M        17.99         10.38          122.80     1001.0   \n",
       "1    842517         M        20.57         17.77          132.90     1326.0   \n",
       "2  84300903         M        19.69         21.25          130.00     1203.0   \n",
       "3  84348301         M        11.42         20.38           77.58      386.1   \n",
       "4  84358402         M        20.29         14.34          135.10     1297.0   \n",
       "\n",
       "   smoothness_mean  compactness_mean  concavity_mean  concave points_mean  \\\n",
       "0          0.11840           0.27760          0.3001              0.14710   \n",
       "1          0.08474           0.07864          0.0869              0.07017   \n",
       "2          0.10960           0.15990          0.1974              0.12790   \n",
       "3          0.14250           0.28390          0.2414              0.10520   \n",
       "4          0.10030           0.13280          0.1980              0.10430   \n",
       "\n",
       "   ...  radius_worst  texture_worst  perimeter_worst  area_worst  \\\n",
       "0  ...         25.38          17.33           184.60      2019.0   \n",
       "1  ...         24.99          23.41           158.80      1956.0   \n",
       "2  ...         23.57          25.53           152.50      1709.0   \n",
       "3  ...         14.91          26.50            98.87       567.7   \n",
       "4  ...         22.54          16.67           152.20      1575.0   \n",
       "\n",
       "   smoothness_worst  compactness_worst  concavity_worst  concave points_worst  \\\n",
       "0            0.1622             0.6656           0.7119                0.2654   \n",
       "1            0.1238             0.1866           0.2416                0.1860   \n",
       "2            0.1444             0.4245           0.4504                0.2430   \n",
       "3            0.2098             0.8663           0.6869                0.2575   \n",
       "4            0.1374             0.2050           0.4000                0.1625   \n",
       "\n",
       "   symmetry_worst  fractal_dimension_worst  \n",
       "0          0.4601                  0.11890  \n",
       "1          0.2750                  0.08902  \n",
       "2          0.3613                  0.08758  \n",
       "3          0.6638                  0.17300  \n",
       "4          0.2364                  0.07678  \n",
       "\n",
       "[5 rows x 32 columns]"
      ]
     },
     "execution_count": 25,
     "metadata": {},
     "output_type": "execute_result"
    }
   ],
   "source": [
    "#9a - Using the pandas library, read the csv file and create a data-frame called breast_cancer.\n",
    "\n",
    "breast_cancer = pd.read_csv('wisconsin_breast_cancer.csv')\n",
    "breast_cancer.head()"
   ]
  },
  {
   "cell_type": "code",
   "execution_count": 26,
   "id": "3859fb42-fee5-41f2-9d8b-af364693fe6f",
   "metadata": {},
   "outputs": [
    {
     "data": {
      "text/plain": [
       "id                         569\n",
       "diagnosis                  569\n",
       "radius_mean                569\n",
       "texture_mean               569\n",
       "perimeter_mean             569\n",
       "area_mean                  569\n",
       "smoothness_mean            569\n",
       "compactness_mean           569\n",
       "concavity_mean             569\n",
       "concave points_mean        569\n",
       "symmetry_mean              569\n",
       "fractal_dimension_mean     569\n",
       "radius_se                  569\n",
       "texture_se                 569\n",
       "perimeter_se               569\n",
       "area_se                    569\n",
       "smoothness_se              569\n",
       "compactness_se             569\n",
       "concavity_se               569\n",
       "concave points_se          569\n",
       "symmetry_se                569\n",
       "fractal_dimension_se       569\n",
       "radius_worst               569\n",
       "texture_worst              569\n",
       "perimeter_worst            569\n",
       "area_worst                 569\n",
       "smoothness_worst           569\n",
       "compactness_worst          569\n",
       "concavity_worst            569\n",
       "concave points_worst       569\n",
       "symmetry_worst             569\n",
       "fractal_dimension_worst    569\n",
       "dtype: int64"
      ]
     },
     "execution_count": 26,
     "metadata": {},
     "output_type": "execute_result"
    }
   ],
   "source": [
    "#9b - Using the proper commands, report the number of observations and variables.\n",
    "\n",
    "breast_cancer.count()"
   ]
  },
  {
   "cell_type": "code",
   "execution_count": 47,
   "id": "48af5c88-424f-4ea1-b0a6-3c6fb8e058b0",
   "metadata": {},
   "outputs": [
    {
     "data": {
      "text/plain": [
       "<Axes: >"
      ]
     },
     "execution_count": 47,
     "metadata": {},
     "output_type": "execute_result"
    },
    {
     "data": {
      "image/png": "[encoded data removed]",
      "text/plain": [
       "<Figure size 640x480 with 1 Axes>"
      ]
     },
     "metadata": {},
     "output_type": "display_data"
    }
   ],
   "source": [
    "#9c - Create a pie chart of diagnosis. Comment on the chart.\n",
    "\n",
    "breast_cancer.groupby('diagnosis').size().plot(kind='pie', autopct='%1.2f%%', textprops={'fontsize': 20})"
   ]
  },
  {
   "cell_type": "markdown",
   "id": "49978b00-b468-4526-94f3-a5138fefd4d8",
   "metadata": {},
   "source": [
    "From the above, we see that 62.74% of the diagnostics are benign (B) & 37.26% are malignant (M)"
   ]
  },
  {
   "cell_type": "code",
   "execution_count": 54,
   "id": "068d2bf0-55f6-4a48-87a1-e00ad7ffddb4",
   "metadata": {},
   "outputs": [
    {
     "data": {
      "text/plain": [
       "<Axes: xlabel='diagnosis', ylabel='radius_mean'>"
      ]
     },
     "execution_count": 54,
     "metadata": {},
     "output_type": "execute_result"
    },
    {
     "data": {
      "image/png": "[encoded data removed]",
      "text/plain": [
       "<Figure size 640x480 with 1 Axes>"
      ]
     },
     "metadata": {},
     "output_type": "display_data"
    }
   ],
   "source": [
    "#9d - Create a side-by-side boxplot of radius_mean for two types of diagnosis. Comment on the plot.\n",
    "\n",
    "sns.boxplot(data = breast_cancer, x = 'diagnosis', y = 'radius_mean')"
   ]
  },
  {
   "cell_type": "markdown",
   "id": "ba49eda7-36b7-416d-8eb7-2b54928e21d9",
   "metadata": {},
   "source": [
    "From the above, we see the median for M is about 17.5 and 12.5 for B. The IQR is between 15 and almost 20 for M and about 11 to 13.5 for B. Max for M is about 26 & max for B is 16-17. Min for M is 11 and Min for B is 5."
   ]
  },
  {
   "cell_type": "code",
   "execution_count": 55,
   "id": "b4560efc-2173-4135-99e4-49a54d90ce82",
   "metadata": {},
   "outputs": [
    {
     "data": {
      "text/plain": [
       "Text(0, 0.5, 'area_mean')"
      ]
     },
     "execution_count": 55,
     "metadata": {},
     "output_type": "execute_result"
    },
    {
     "data": {
      "image/png": "[encoded data removed]",
      "text/plain": [
       "<Figure size 640x480 with 1 Axes>"
      ]
     },
     "metadata": {},
     "output_type": "display_data"
    }
   ],
   "source": [
    "#9e - Create a scatter plot of radius_mean and area_mean. Comment on the plot.\n",
    "\n",
    "plt.plot('radius_mean', 'area_mean', 'o', data = breast_cancer)\n",
    "plt.xlabel('radius_mean')\n",
    "plt.ylabel('area_mean')"
   ]
  },
  {
   "cell_type": "markdown",
   "id": "bdf0ebb1-9e69-495d-a69a-7962c82d9b41",
   "metadata": {},
   "source": [
    "From the above, we see there is a positive correlation between radius mean and area mean"
   ]
  }
 ],
 "metadata": {
  "kernelspec": {
   "display_name": "Python 3 (ipykernel)",
   "language": "python",
   "name": "python3"
  },
  "language_info": {
   "codemirror_mode": {
    "name": "ipython",
    "version": 3
   },
   "file_extension": ".py",
   "mimetype": "text/x-python",
   "name": "python",
   "nbconvert_exporter": "python",
   "pygments_lexer": "ipython3",
   "version": "3.8.17"
  }
 },
 "nbformat": 4,
 "nbformat_minor": 5
}
