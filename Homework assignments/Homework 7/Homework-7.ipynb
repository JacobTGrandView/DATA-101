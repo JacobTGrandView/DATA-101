{
 "cells": [
  {
   "cell_type": "markdown",
   "id": "bdf1c941-f2c2-4a79-8fdb-91ffac5a6c79",
   "metadata": {},
   "source": [
    "<h2>Exercise 1 - What is the difference between simple linear and multiple linear regressions? Be specific.</h2>\n",
    "\n",
    "Simple predicts target using 1 predictor.<br>\n",
    "Multiple predicts using multiple predictors"
   ]
  },
  {
   "cell_type": "markdown",
   "id": "b2dcd563-6c99-4294-8ecf-18204629294d",
   "metadata": {},
   "source": [
    "<h2>Exercise 2</h2>\n",
    "\n",
    "Women: .86<br>\n",
    "Men: 1.06"
   ]
  },
  {
   "cell_type": "markdown",
   "id": "8cce5697-d8c8-4780-8469-16fb49743528",
   "metadata": {},
   "source": [
    "<h2>Exercise 3</h2>\n",
    "\n",
    "C"
   ]
  },
  {
   "cell_type": "markdown",
   "id": "f42bd11c-15d5-4a21-9c6a-1e21838a7fff",
   "metadata": {},
   "source": [
    "<h2>Exercise 4</h2>\n",
    "\n",
    "B"
   ]
  },
  {
   "cell_type": "markdown",
   "id": "d4052719-8e44-4546-a54b-d794a62fec73",
   "metadata": {},
   "source": [
    "<h2>Exercise 5 - Answer below using Default.csv</h2>"
   ]
  },
  {
   "cell_type": "code",
   "execution_count": 5,
   "id": "76fc4374-890f-4fcd-b81f-dad5dbdbc0ba",
   "metadata": {},
   "outputs": [
    {
     "data": {
      "text/html": [
       "<div>\n",
       "<style scoped>\n",
       "    .dataframe tbody tr th:only-of-type {\n",
       "        vertical-align: middle;\n",
       "    }\n",
       "\n",
       "    .dataframe tbody tr th {\n",
       "        vertical-align: top;\n",
       "    }\n",
       "\n",
       "    .dataframe thead th {\n",
       "        text-align: right;\n",
       "    }\n",
       "</style>\n",
       "<table border=\"1\" class=\"dataframe\">\n",
       "  <thead>\n",
       "    <tr style=\"text-align: right;\">\n",
       "      <th></th>\n",
       "      <th>default</th>\n",
       "      <th>student</th>\n",
       "      <th>balance</th>\n",
       "      <th>income</th>\n",
       "    </tr>\n",
       "  </thead>\n",
       "  <tbody>\n",
       "    <tr>\n",
       "      <th>0</th>\n",
       "      <td>No</td>\n",
       "      <td>No</td>\n",
       "      <td>729.526495</td>\n",
       "      <td>44361.625074</td>\n",
       "    </tr>\n",
       "    <tr>\n",
       "      <th>1</th>\n",
       "      <td>No</td>\n",
       "      <td>Yes</td>\n",
       "      <td>817.180407</td>\n",
       "      <td>12106.134700</td>\n",
       "    </tr>\n",
       "    <tr>\n",
       "      <th>2</th>\n",
       "      <td>No</td>\n",
       "      <td>No</td>\n",
       "      <td>1073.549164</td>\n",
       "      <td>31767.138947</td>\n",
       "    </tr>\n",
       "    <tr>\n",
       "      <th>3</th>\n",
       "      <td>No</td>\n",
       "      <td>No</td>\n",
       "      <td>529.250605</td>\n",
       "      <td>35704.493935</td>\n",
       "    </tr>\n",
       "    <tr>\n",
       "      <th>4</th>\n",
       "      <td>No</td>\n",
       "      <td>No</td>\n",
       "      <td>785.655883</td>\n",
       "      <td>38463.495879</td>\n",
       "    </tr>\n",
       "  </tbody>\n",
       "</table>\n",
       "</div>"
      ],
      "text/plain": [
       "  default student      balance        income\n",
       "0      No      No   729.526495  44361.625074\n",
       "1      No     Yes   817.180407  12106.134700\n",
       "2      No      No  1073.549164  31767.138947\n",
       "3      No      No   529.250605  35704.493935\n",
       "4      No      No   785.655883  38463.495879"
      ]
     },
     "execution_count": 5,
     "metadata": {},
     "output_type": "execute_result"
    }
   ],
   "source": [
    "#5a - Using the pandas library, read the csv file and called credit_default\n",
    "\n",
    "import pandas as pd\n",
    "import numpy as np\n",
    "\n",
    "credit_default = pd.read_csv('Default.csv')\n",
    "credit_default.head()"
   ]
  },
  {
   "cell_type": "code",
   "execution_count": 6,
   "id": "0b5d79a0-e832-4983-90b7-c7600d8b3eed",
   "metadata": {},
   "outputs": [],
   "source": [
    "#5b - add default_numb variable\n",
    "\n",
    "credit_default['default_numb'] = np.where(credit_default['default'] == 'Yes', 1, 0)"
   ]
  },
  {
   "cell_type": "code",
   "execution_count": 8,
   "id": "90d25e59-acae-47c1-9ba4-8f5a2b83c671",
   "metadata": {},
   "outputs": [
    {
     "name": "stdout",
     "output_type": "stream",
     "text": [
      "Optimization terminated successfully.\n",
      "         Current function value: 0.078948\n",
      "         Iterations 10\n"
     ]
    }
   ],
   "source": [
    "#5c - statsmodels.formula.api, build a logistic regression model\n",
    "\n",
    "import statsmodels.api as sm\n",
    "\n",
    "my_md = sm.formula.logit(\"default_numb ~ balance + income\", data = credit_default).fit()"
   ]
  },
  {
   "cell_type": "code",
   "execution_count": 9,
   "id": "ad71a886-5f5c-4438-a71a-983240ce6d9b",
   "metadata": {},
   "outputs": [
    {
     "name": "stdout",
     "output_type": "stream",
     "text": [
      "Likelihood is:  0    0.770364\n",
      "dtype: float64\n"
     ]
    }
   ],
   "source": [
    "#5d - predict the likelihood of default of a customer with balance = $2,000 and income = $70,000.\n",
    "\n",
    "new_obs = {'balance': 2000, 'income': 70000}\n",
    "predict = my_md.predict(new_obs)\n",
    "print(\"Likelihood is: \", predict)"
   ]
  },
  {
   "cell_type": "code",
   "execution_count": 10,
   "id": "12f298c2-0a3f-40ca-a042-49ef09d4dab5",
   "metadata": {},
   "outputs": [
    {
     "name": "stdout",
     "output_type": "stream",
     "text": [
      "Optimization terminated successfully.\n",
      "         Current function value: 0.078577\n",
      "         Iterations 10\n"
     ]
    }
   ],
   "source": [
    "#5e - statsmodels.formula.api, build a logistic regression model\n",
    "\n",
    "my_md1 = sm.formula.logit(\"default_numb ~ balance + income + C(student)\", data = credit_default).fit()"
   ]
  },
  {
   "cell_type": "code",
   "execution_count": 14,
   "id": "37815d0a-a9a7-49ff-af66-49b231474d65",
   "metadata": {},
   "outputs": [
    {
     "name": "stdout",
     "output_type": "stream",
     "text": [
      "Likelihood is:  0    0.947156\n",
      "dtype: float64\n"
     ]
    }
   ],
   "source": [
    "#5f - predict likelihood of default of customer with balance = $2.5k and income = $20k and student = Yes.\n",
    "\n",
    "new_obs1 = pd.DataFrame({'balance': 2500, 'income': 20000, 'student': ['Yes']})\n",
    "predict1 = my_md1.predict(new_obs1)\n",
    "print(\"Likelihood is: \", predict1)"
   ]
  },
  {
   "cell_type": "markdown",
   "id": "1d7b3a64-1920-4d5d-bfb7-66123f286992",
   "metadata": {},
   "source": [
    "<h2>Exercise 6 - use Churn_Data.csv to answer below</h2>"
   ]
  },
  {
   "cell_type": "code",
   "execution_count": 16,
   "id": "f1625b10-8aa3-4c48-98ed-28eb89a77861",
   "metadata": {},
   "outputs": [
    {
     "data": {
      "text/html": [
       "<div>\n",
       "<style scoped>\n",
       "    .dataframe tbody tr th:only-of-type {\n",
       "        vertical-align: middle;\n",
       "    }\n",
       "\n",
       "    .dataframe tbody tr th {\n",
       "        vertical-align: top;\n",
       "    }\n",
       "\n",
       "    .dataframe thead th {\n",
       "        text-align: right;\n",
       "    }\n",
       "</style>\n",
       "<table border=\"1\" class=\"dataframe\">\n",
       "  <thead>\n",
       "    <tr style=\"text-align: right;\">\n",
       "      <th></th>\n",
       "      <th>CustomerId</th>\n",
       "      <th>CreditScore</th>\n",
       "      <th>Geography</th>\n",
       "      <th>Gender</th>\n",
       "      <th>Age</th>\n",
       "      <th>Tenure</th>\n",
       "      <th>Balance</th>\n",
       "      <th>NumOfProducts</th>\n",
       "      <th>HasCreditCard</th>\n",
       "      <th>IsActiveMember</th>\n",
       "      <th>EstimatedSalary</th>\n",
       "      <th>Churn</th>\n",
       "    </tr>\n",
       "  </thead>\n",
       "  <tbody>\n",
       "    <tr>\n",
       "      <th>0</th>\n",
       "      <td>15634602</td>\n",
       "      <td>619</td>\n",
       "      <td>France</td>\n",
       "      <td>Female</td>\n",
       "      <td>42</td>\n",
       "      <td>2</td>\n",
       "      <td>0.00</td>\n",
       "      <td>1</td>\n",
       "      <td>1</td>\n",
       "      <td>1</td>\n",
       "      <td>101348.88</td>\n",
       "      <td>1</td>\n",
       "    </tr>\n",
       "    <tr>\n",
       "      <th>1</th>\n",
       "      <td>15647311</td>\n",
       "      <td>608</td>\n",
       "      <td>Spain</td>\n",
       "      <td>Female</td>\n",
       "      <td>41</td>\n",
       "      <td>1</td>\n",
       "      <td>83807.86</td>\n",
       "      <td>1</td>\n",
       "      <td>0</td>\n",
       "      <td>1</td>\n",
       "      <td>112542.58</td>\n",
       "      <td>0</td>\n",
       "    </tr>\n",
       "    <tr>\n",
       "      <th>2</th>\n",
       "      <td>15619304</td>\n",
       "      <td>502</td>\n",
       "      <td>France</td>\n",
       "      <td>Female</td>\n",
       "      <td>42</td>\n",
       "      <td>8</td>\n",
       "      <td>159660.80</td>\n",
       "      <td>3</td>\n",
       "      <td>1</td>\n",
       "      <td>0</td>\n",
       "      <td>113931.57</td>\n",
       "      <td>1</td>\n",
       "    </tr>\n",
       "    <tr>\n",
       "      <th>3</th>\n",
       "      <td>15701354</td>\n",
       "      <td>699</td>\n",
       "      <td>France</td>\n",
       "      <td>Female</td>\n",
       "      <td>39</td>\n",
       "      <td>1</td>\n",
       "      <td>0.00</td>\n",
       "      <td>2</td>\n",
       "      <td>0</td>\n",
       "      <td>0</td>\n",
       "      <td>93826.63</td>\n",
       "      <td>0</td>\n",
       "    </tr>\n",
       "    <tr>\n",
       "      <th>4</th>\n",
       "      <td>15737888</td>\n",
       "      <td>850</td>\n",
       "      <td>Spain</td>\n",
       "      <td>Female</td>\n",
       "      <td>43</td>\n",
       "      <td>2</td>\n",
       "      <td>125510.82</td>\n",
       "      <td>1</td>\n",
       "      <td>1</td>\n",
       "      <td>1</td>\n",
       "      <td>79084.10</td>\n",
       "      <td>0</td>\n",
       "    </tr>\n",
       "  </tbody>\n",
       "</table>\n",
       "</div>"
      ],
      "text/plain": [
       "   CustomerId  CreditScore Geography  Gender  Age  Tenure    Balance  \\\n",
       "0    15634602          619    France  Female   42       2       0.00   \n",
       "1    15647311          608     Spain  Female   41       1   83807.86   \n",
       "2    15619304          502    France  Female   42       8  159660.80   \n",
       "3    15701354          699    France  Female   39       1       0.00   \n",
       "4    15737888          850     Spain  Female   43       2  125510.82   \n",
       "\n",
       "   NumOfProducts  HasCreditCard  IsActiveMember  EstimatedSalary  Churn  \n",
       "0              1              1               1        101348.88      1  \n",
       "1              1              0               1        112542.58      0  \n",
       "2              3              1               0        113931.57      1  \n",
       "3              2              0               0         93826.63      0  \n",
       "4              1              1               1         79084.10      0  "
      ]
     },
     "execution_count": 16,
     "metadata": {},
     "output_type": "execute_result"
    }
   ],
   "source": [
    "#6a - Using the pandas library, read the csv file and create a data-frame called churn.\n",
    "\n",
    "churn = pd.read_csv('Churn_Data.csv')\n",
    "churn.head()"
   ]
  },
  {
   "cell_type": "code",
   "execution_count": 17,
   "id": "7aeb684a-19ba-4288-9f9d-0ba163264696",
   "metadata": {},
   "outputs": [],
   "source": [
    "#6b - DecisionTreeClassifier function, build a decision tree model\n",
    "\n",
    "from sklearn.tree import DecisionTreeClassifier\n",
    "\n",
    "#Inputs and target\n",
    "my_fts = ['Age', 'EstimatedSalary', 'CreditScore', 'Balance', 'NumOfProducts']\n",
    "trgt = ['Churn']\n",
    "\n",
    "X = churn[my_fts]\n",
    "Y = churn[trgt]\n",
    "\n",
    "#DecisionTree model\n",
    "md_tree = DecisionTreeClassifier().fit(X, Y)"
   ]
  },
  {
   "cell_type": "code",
   "execution_count": 18,
   "id": "fa1d8ea7-192a-45a4-b2f8-a72e843db7aa",
   "metadata": {},
   "outputs": [
    {
     "name": "stdout",
     "output_type": "stream",
     "text": [
      "[[1. 0.]]\n"
     ]
    }
   ],
   "source": [
    "#6c - predict likelihood of churn of withAge = 50, EstimatedSalary = $100,000, CreditScore = 600, \n",
    "#Balance = $100,000, and NumOfProducts = 2.\n",
    "\n",
    "obs_2 = pd.DataFrame({'Age': [50], 'EstimatedSalary': [100000], 'CreditScore': [600], 'Balance': [100000], 'NumOfProducts': [2]})\n",
    "\n",
    "#Predict\n",
    "predict2 = md_tree.predict_proba(obs_2)\n",
    "print(predict2)"
   ]
  },
  {
   "cell_type": "markdown",
   "id": "759ac2a9-1769-44bd-949e-b9a0c5b75f49",
   "metadata": {},
   "source": [
    "#6d\n",
    "\n",
    "Customer would be flagged at >= 40%"
   ]
  }
 ],
 "metadata": {
  "kernelspec": {
   "display_name": "Python 3 (ipykernel)",
   "language": "python",
   "name": "python3"
  },
  "language_info": {
   "codemirror_mode": {
    "name": "ipython",
    "version": 3
   },
   "file_extension": ".py",
   "mimetype": "text/x-python",
   "name": "python",
   "nbconvert_exporter": "python",
   "pygments_lexer": "ipython3",
   "version": "3.8.17"
  }
 },
 "nbformat": 4,
 "nbformat_minor": 5
}
