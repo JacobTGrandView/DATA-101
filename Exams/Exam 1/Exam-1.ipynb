{
 "cells": [
  {
   "cell_type": "markdown",
   "id": "514d7c68-fc52-47d0-ac54-cf0d59bed663",
   "metadata": {},
   "source": [
    "<h1><center>Importing Libraries</center></h1>"
   ]
  },
  {
   "cell_type": "code",
   "execution_count": 1,
   "id": "67ebf141-eba1-42de-b470-5c6746b92f31",
   "metadata": {},
   "outputs": [],
   "source": [
    "import pandas as pd\n",
    "import numpy as np\n",
    "import matplotlib.pyplot as plt; plt.style.use('ggplot')"
   ]
  },
  {
   "cell_type": "markdown",
   "id": "17f625d2-bf20-47a0-a48a-380f71162667",
   "metadata": {},
   "source": [
    "<h1><center>Problem 1</center></h1>\n",
    "Consider the insurance.csv datafile. This file contains some basic demographic information \n",
    "related to an insurance company in the USA. In Python, answer the following:\r"
   ]
  },
  {
   "cell_type": "code",
   "execution_count": 2,
   "id": "67faa74d-fc92-471e-8e06-4c9f855a5127",
   "metadata": {},
   "outputs": [
    {
     "data": {
      "text/html": [
       "<div>\n",
       "<style scoped>\n",
       "    .dataframe tbody tr th:only-of-type {\n",
       "        vertical-align: middle;\n",
       "    }\n",
       "\n",
       "    .dataframe tbody tr th {\n",
       "        vertical-align: top;\n",
       "    }\n",
       "\n",
       "    .dataframe thead th {\n",
       "        text-align: right;\n",
       "    }\n",
       "</style>\n",
       "<table border=\"1\" class=\"dataframe\">\n",
       "  <thead>\n",
       "    <tr style=\"text-align: right;\">\n",
       "      <th></th>\n",
       "      <th>age</th>\n",
       "      <th>sex</th>\n",
       "      <th>bmi</th>\n",
       "      <th>children</th>\n",
       "      <th>smoker</th>\n",
       "      <th>region</th>\n",
       "      <th>charges</th>\n",
       "    </tr>\n",
       "  </thead>\n",
       "  <tbody>\n",
       "    <tr>\n",
       "      <th>0</th>\n",
       "      <td>19</td>\n",
       "      <td>female</td>\n",
       "      <td>27.900</td>\n",
       "      <td>0</td>\n",
       "      <td>yes</td>\n",
       "      <td>southwest</td>\n",
       "      <td>16884.92400</td>\n",
       "    </tr>\n",
       "    <tr>\n",
       "      <th>1</th>\n",
       "      <td>18</td>\n",
       "      <td>male</td>\n",
       "      <td>33.770</td>\n",
       "      <td>1</td>\n",
       "      <td>no</td>\n",
       "      <td>southeast</td>\n",
       "      <td>1725.55230</td>\n",
       "    </tr>\n",
       "    <tr>\n",
       "      <th>2</th>\n",
       "      <td>28</td>\n",
       "      <td>male</td>\n",
       "      <td>33.000</td>\n",
       "      <td>3</td>\n",
       "      <td>no</td>\n",
       "      <td>southeast</td>\n",
       "      <td>4449.46200</td>\n",
       "    </tr>\n",
       "    <tr>\n",
       "      <th>3</th>\n",
       "      <td>33</td>\n",
       "      <td>male</td>\n",
       "      <td>22.705</td>\n",
       "      <td>0</td>\n",
       "      <td>no</td>\n",
       "      <td>northwest</td>\n",
       "      <td>21984.47061</td>\n",
       "    </tr>\n",
       "    <tr>\n",
       "      <th>4</th>\n",
       "      <td>32</td>\n",
       "      <td>male</td>\n",
       "      <td>28.880</td>\n",
       "      <td>0</td>\n",
       "      <td>no</td>\n",
       "      <td>northwest</td>\n",
       "      <td>3866.85520</td>\n",
       "    </tr>\n",
       "  </tbody>\n",
       "</table>\n",
       "</div>"
      ],
      "text/plain": [
       "   age     sex     bmi  children smoker     region      charges\n",
       "0   19  female  27.900         0    yes  southwest  16884.92400\n",
       "1   18    male  33.770         1     no  southeast   1725.55230\n",
       "2   28    male  33.000         3     no  southeast   4449.46200\n",
       "3   33    male  22.705         0     no  northwest  21984.47061\n",
       "4   32    male  28.880         0     no  northwest   3866.85520"
      ]
     },
     "execution_count": 2,
     "metadata": {},
     "output_type": "execute_result"
    }
   ],
   "source": [
    "#1a -  Using the pandas library, read the csv file and create a data-frame called insurance.\n",
    "\n",
    "insurance = pd.read_csv('insurance.csv')\n",
    "insurance.head()"
   ]
  },
  {
   "cell_type": "code",
   "execution_count": 3,
   "id": "4a6e53d6-b475-4e99-9558-47fe48c6ff6f",
   "metadata": {},
   "outputs": [
    {
     "data": {
      "text/plain": [
       "(1338, 7)"
      ]
     },
     "execution_count": 3,
     "metadata": {},
     "output_type": "execute_result"
    }
   ],
   "source": [
    "#1b - Using the appropriate Python commands, report the number of observations and variables.\n",
    "\n",
    "insurance.shape"
   ]
  },
  {
   "cell_type": "markdown",
   "id": "2d42aabb-4c0e-421b-8c2b-708986368d7b",
   "metadata": {},
   "source": [
    "1338 observations & 7 variables"
   ]
  },
  {
   "cell_type": "code",
   "execution_count": 4,
   "id": "2e497d03-f0ad-4f77-9382-b6ace7cc0e52",
   "metadata": {},
   "outputs": [
    {
     "data": {
      "text/plain": [
       "sex\n",
       "male      676\n",
       "female    662\n",
       "Name: count, dtype: int64"
      ]
     },
     "execution_count": 4,
     "metadata": {},
     "output_type": "execute_result"
    }
   ],
   "source": [
    "#1c - Using the appropriate Python commands, report the number of females and males in the insurance data-frame.\n",
    "\n",
    "insurance['sex'].value_counts()"
   ]
  },
  {
   "cell_type": "markdown",
   "id": "fc144d75-ce74-43c8-ab13-8c05d22cc254",
   "metadata": {},
   "source": [
    "676 males & 662 females"
   ]
  },
  {
   "cell_type": "code",
   "execution_count": 5,
   "id": "0e0d1e43-d3c6-406d-8e57-eac781b30aee",
   "metadata": {},
   "outputs": [
    {
     "data": {
      "text/plain": [
       "Text(0, 0.5, 'Frequency')"
      ]
     },
     "execution_count": 5,
     "metadata": {},
     "output_type": "execute_result"
    },
    {
     "data": {
      "image/png": "[encoded data removed]",
      "text/plain": [
       "<Figure size 640x480 with 1 Axes>"
      ]
     },
     "metadata": {},
     "output_type": "display_data"
    }
   ],
   "source": [
    "#1d - Create the histogram of age. Comment on the plot\n",
    "\n",
    "insurance['age'].hist()\n",
    "plt.xlabel('age (years)')\n",
    "plt.ylabel('Frequency')"
   ]
  },
  {
   "cell_type": "markdown",
   "id": "2edf2fb7-137f-4034-891f-436c31afd72d",
   "metadata": {},
   "source": [
    "From the above, we see that there are much more people around 18-22 years old"
   ]
  },
  {
   "cell_type": "code",
   "execution_count": 6,
   "id": "e8a9cd59-ba7f-4d4e-83a7-cb9376b9166d",
   "metadata": {},
   "outputs": [
    {
     "data": {
      "text/plain": [
       "smoker\n",
       "no      8434.268298\n",
       "yes    32050.231832\n",
       "Name: charges, dtype: float64"
      ]
     },
     "execution_count": 6,
     "metadata": {},
     "output_type": "execute_result"
    }
   ],
   "source": [
    "#1e - A common hypothesis is that smokers insurance charges is higher than nonsmokers. \n",
    "# Compute the average charges for smokers and non-smokers. Does this calculation agree \n",
    "# with the initial hypothesis? Explain.\n",
    "\n",
    "insurance.groupby('smoker')['charges'].mean()"
   ]
  },
  {
   "cell_type": "markdown",
   "id": "677782f6-2aed-470d-be43-accd13ea74f1",
   "metadata": {},
   "source": [
    "It agrees with the initial hypothesis since we see that people who smoke have almost 4 times the amount of charges compared to non-smokers"
   ]
  },
  {
   "cell_type": "code",
   "execution_count": 7,
   "id": "05937499-7e35-406f-91a2-86ea880630c5",
   "metadata": {},
   "outputs": [
    {
     "data": {
      "text/plain": [
       "smoker\n",
       "no      7345.40530\n",
       "yes    34456.34845\n",
       "Name: charges, dtype: float64"
      ]
     },
     "execution_count": 7,
     "metadata": {},
     "output_type": "execute_result"
    }
   ],
   "source": [
    "#1f - A common hypothesis is that smokers insurance charges is higher than nonsmokers. \n",
    "# Compute the median charges for smokers and non-smokers. \n",
    "# Does this calculation agree with the initial hypothesis? Explain.\n",
    "\n",
    "insurance.groupby('smoker')['charges'].median()"
   ]
  },
  {
   "cell_type": "markdown",
   "id": "07120a7f-407f-4a0a-89bb-080315874fa9",
   "metadata": {},
   "source": [
    "This also agrees with the initial hypothesis since the people who smoke have over 4 times the amount of charges compared to non-smokers"
   ]
  },
  {
   "cell_type": "code",
   "execution_count": 24,
   "id": "42042df0-b903-41df-9228-699d962419b2",
   "metadata": {},
   "outputs": [],
   "source": [
    "#1g - Using the results from parts (e) and (f), what can you conclude about the \n",
    "# shape of the distributions of charges of smokers and non-smokers?"
   ]
  },
  {
   "cell_type": "markdown",
   "id": "3f461aea-fee1-4972-ae6f-8f08a4d8201d",
   "metadata": {},
   "source": [
    "When the person isn't a smoker, the distribution is right-skewed since the mean is slightly larger than the median.<br>\n",
    "When the person is a smoker, the distribution is left-skewed since the mean is slightly less than the median"
   ]
  },
  {
   "cell_type": "markdown",
   "id": "3095e789-eeeb-4a23-98f6-71d5010a09ce",
   "metadata": {},
   "source": [
    "<h1><center>Problem 2</center></h1>\n",
    "\n",
    "Consider the Wisconsin breast cancer diagnostic data set.. The Wisconsin breast cancer data set contains\r\n",
    "information on 569 biopsies, each with 32 features. One feature is an id number, another\r\n",
    "is the cancer diagnosis, “M” to indicate malignant or “B” to indicate benign. The other 30\r\n",
    "numeric measurements comprise the mean, standard error, and worst (that is, largest) value\r\n",
    "for 10 different characteristics of the digitized cell nuclei. Notice that all these features are\r\n",
    "related to the shape and size of the cell nuclei. In Python, answer the following:"
   ]
  },
  {
   "cell_type": "code",
   "execution_count": 25,
   "id": "3a9a0694-3422-4f02-9a69-dd7181b0ef14",
   "metadata": {},
   "outputs": [
    {
     "data": {
      "text/html": [
       "<div>\n",
       "<style scoped>\n",
       "    .dataframe tbody tr th:only-of-type {\n",
       "        vertical-align: middle;\n",
       "    }\n",
       "\n",
       "    .dataframe tbody tr th {\n",
       "        vertical-align: top;\n",
       "    }\n",
       "\n",
       "    .dataframe thead th {\n",
       "        text-align: right;\n",
       "    }\n",
       "</style>\n",
       "<table border=\"1\" class=\"dataframe\">\n",
       "  <thead>\n",
       "    <tr style=\"text-align: right;\">\n",
       "      <th></th>\n",
       "      <th>id</th>\n",
       "      <th>diagnosis</th>\n",
       "      <th>radius_mean</th>\n",
       "      <th>texture_mean</th>\n",
       "      <th>perimeter_mean</th>\n",
       "      <th>area_mean</th>\n",
       "      <th>smoothness_mean</th>\n",
       "      <th>compactness_mean</th>\n",
       "      <th>concavity_mean</th>\n",
       "      <th>concave points_mean</th>\n",
       "      <th>...</th>\n",
       "      <th>radius_worst</th>\n",
       "      <th>texture_worst</th>\n",
       "      <th>perimeter_worst</th>\n",
       "      <th>area_worst</th>\n",
       "      <th>smoothness_worst</th>\n",
       "      <th>compactness_worst</th>\n",
       "      <th>concavity_worst</th>\n",
       "      <th>concave points_worst</th>\n",
       "      <th>symmetry_worst</th>\n",
       "      <th>fractal_dimension_worst</th>\n",
       "    </tr>\n",
       "  </thead>\n",
       "  <tbody>\n",
       "    <tr>\n",
       "      <th>0</th>\n",
       "      <td>842302</td>\n",
       "      <td>M</td>\n",
       "      <td>17.99</td>\n",
       "      <td>10.38</td>\n",
       "      <td>122.80</td>\n",
       "      <td>1001.0</td>\n",
       "      <td>0.11840</td>\n",
       "      <td>0.27760</td>\n",
       "      <td>0.3001</td>\n",
       "      <td>0.14710</td>\n",
       "      <td>...</td>\n",
       "      <td>25.38</td>\n",
       "      <td>17.33</td>\n",
       "      <td>184.60</td>\n",
       "      <td>2019.0</td>\n",
       "      <td>0.1622</td>\n",
       "      <td>0.6656</td>\n",
       "      <td>0.7119</td>\n",
       "      <td>0.2654</td>\n",
       "      <td>0.4601</td>\n",
       "      <td>0.11890</td>\n",
       "    </tr>\n",
       "    <tr>\n",
       "      <th>1</th>\n",
       "      <td>842517</td>\n",
       "      <td>M</td>\n",
       "      <td>20.57</td>\n",
       "      <td>17.77</td>\n",
       "      <td>132.90</td>\n",
       "      <td>1326.0</td>\n",
       "      <td>0.08474</td>\n",
       "      <td>0.07864</td>\n",
       "      <td>0.0869</td>\n",
       "      <td>0.07017</td>\n",
       "      <td>...</td>\n",
       "      <td>24.99</td>\n",
       "      <td>23.41</td>\n",
       "      <td>158.80</td>\n",
       "      <td>1956.0</td>\n",
       "      <td>0.1238</td>\n",
       "      <td>0.1866</td>\n",
       "      <td>0.2416</td>\n",
       "      <td>0.1860</td>\n",
       "      <td>0.2750</td>\n",
       "      <td>0.08902</td>\n",
       "    </tr>\n",
       "    <tr>\n",
       "      <th>2</th>\n",
       "      <td>84300903</td>\n",
       "      <td>M</td>\n",
       "      <td>19.69</td>\n",
       "      <td>21.25</td>\n",
       "      <td>130.00</td>\n",
       "      <td>1203.0</td>\n",
       "      <td>0.10960</td>\n",
       "      <td>0.15990</td>\n",
       "      <td>0.1974</td>\n",
       "      <td>0.12790</td>\n",
       "      <td>...</td>\n",
       "      <td>23.57</td>\n",
       "      <td>25.53</td>\n",
       "      <td>152.50</td>\n",
       "      <td>1709.0</td>\n",
       "      <td>0.1444</td>\n",
       "      <td>0.4245</td>\n",
       "      <td>0.4504</td>\n",
       "      <td>0.2430</td>\n",
       "      <td>0.3613</td>\n",
       "      <td>0.08758</td>\n",
       "    </tr>\n",
       "    <tr>\n",
       "      <th>3</th>\n",
       "      <td>84348301</td>\n",
       "      <td>M</td>\n",
       "      <td>11.42</td>\n",
       "      <td>20.38</td>\n",
       "      <td>77.58</td>\n",
       "      <td>386.1</td>\n",
       "      <td>0.14250</td>\n",
       "      <td>0.28390</td>\n",
       "      <td>0.2414</td>\n",
       "      <td>0.10520</td>\n",
       "      <td>...</td>\n",
       "      <td>14.91</td>\n",
       "      <td>26.50</td>\n",
       "      <td>98.87</td>\n",
       "      <td>567.7</td>\n",
       "      <td>0.2098</td>\n",
       "      <td>0.8663</td>\n",
       "      <td>0.6869</td>\n",
       "      <td>0.2575</td>\n",
       "      <td>0.6638</td>\n",
       "      <td>0.17300</td>\n",
       "    </tr>\n",
       "    <tr>\n",
       "      <th>4</th>\n",
       "      <td>84358402</td>\n",
       "      <td>M</td>\n",
       "      <td>20.29</td>\n",
       "      <td>14.34</td>\n",
       "      <td>135.10</td>\n",
       "      <td>1297.0</td>\n",
       "      <td>0.10030</td>\n",
       "      <td>0.13280</td>\n",
       "      <td>0.1980</td>\n",
       "      <td>0.10430</td>\n",
       "      <td>...</td>\n",
       "      <td>22.54</td>\n",
       "      <td>16.67</td>\n",
       "      <td>152.20</td>\n",
       "      <td>1575.0</td>\n",
       "      <td>0.1374</td>\n",
       "      <td>0.2050</td>\n",
       "      <td>0.4000</td>\n",
       "      <td>0.1625</td>\n",
       "      <td>0.2364</td>\n",
       "      <td>0.07678</td>\n",
       "    </tr>\n",
       "  </tbody>\n",
       "</table>\n",
       "<p>5 rows × 32 columns</p>\n",
       "</div>"
      ],
      "text/plain": [
       "         id diagnosis  radius_mean  texture_mean  perimeter_mean  area_mean  \\\n",
       "0    842302         M        17.99         10.38          122.80     1001.0   \n",
       "1    842517         M        20.57         17.77          132.90     1326.0   \n",
       "2  84300903         M        19.69         21.25          130.00     1203.0   \n",
       "3  84348301         M        11.42         20.38           77.58      386.1   \n",
       "4  84358402         M        20.29         14.34          135.10     1297.0   \n",
       "\n",
       "   smoothness_mean  compactness_mean  concavity_mean  concave points_mean  \\\n",
       "0          0.11840           0.27760          0.3001              0.14710   \n",
       "1          0.08474           0.07864          0.0869              0.07017   \n",
       "2          0.10960           0.15990          0.1974              0.12790   \n",
       "3          0.14250           0.28390          0.2414              0.10520   \n",
       "4          0.10030           0.13280          0.1980              0.10430   \n",
       "\n",
       "   ...  radius_worst  texture_worst  perimeter_worst  area_worst  \\\n",
       "0  ...         25.38          17.33           184.60      2019.0   \n",
       "1  ...         24.99          23.41           158.80      1956.0   \n",
       "2  ...         23.57          25.53           152.50      1709.0   \n",
       "3  ...         14.91          26.50            98.87       567.7   \n",
       "4  ...         22.54          16.67           152.20      1575.0   \n",
       "\n",
       "   smoothness_worst  compactness_worst  concavity_worst  concave points_worst  \\\n",
       "0            0.1622             0.6656           0.7119                0.2654   \n",
       "1            0.1238             0.1866           0.2416                0.1860   \n",
       "2            0.1444             0.4245           0.4504                0.2430   \n",
       "3            0.2098             0.8663           0.6869                0.2575   \n",
       "4            0.1374             0.2050           0.4000                0.1625   \n",
       "\n",
       "   symmetry_worst  fractal_dimension_worst  \n",
       "0          0.4601                  0.11890  \n",
       "1          0.2750                  0.08902  \n",
       "2          0.3613                  0.08758  \n",
       "3          0.6638                  0.17300  \n",
       "4          0.2364                  0.07678  \n",
       "\n",
       "[5 rows x 32 columns]"
      ]
     },
     "execution_count": 25,
     "metadata": {},
     "output_type": "execute_result"
    }
   ],
   "source": [
    "#2a - Using the pandas library, read the csv file and create a data-frame called breast_cancer.\n",
    "\n",
    "breast_cancer = pd.read_csv('wisconsin_breast_cancer(2).csv')\n",
    "breast_cancer.head()"
   ]
  },
  {
   "cell_type": "code",
   "execution_count": 26,
   "id": "4e80674d-5be2-4df5-a72a-0edfa5759ab8",
   "metadata": {},
   "outputs": [
    {
     "data": {
      "text/plain": [
       "diagnosis\n",
       "B    357\n",
       "M    212\n",
       "Name: count, dtype: int64"
      ]
     },
     "execution_count": 26,
     "metadata": {},
     "output_type": "execute_result"
    }
   ],
   "source": [
    "#2b - Using the appropriate commands, report the number of B and M diagnoses\n",
    "\n",
    "breast_cancer['diagnosis'].value_counts()"
   ]
  },
  {
   "cell_type": "markdown",
   "id": "71a7655f-6381-48b1-87f9-e8ae9c348eba",
   "metadata": {},
   "source": [
    "From the above, there are 357 B and 212 M diagnoses"
   ]
  },
  {
   "cell_type": "code",
   "execution_count": 61,
   "id": "821421b5-25fd-4e98-ba91-533925e9c625",
   "metadata": {},
   "outputs": [
    {
     "data": {
      "text/html": [
       "<div>\n",
       "<style scoped>\n",
       "    .dataframe tbody tr th:only-of-type {\n",
       "        vertical-align: middle;\n",
       "    }\n",
       "\n",
       "    .dataframe tbody tr th {\n",
       "        vertical-align: top;\n",
       "    }\n",
       "\n",
       "    .dataframe thead th {\n",
       "        text-align: right;\n",
       "    }\n",
       "</style>\n",
       "<table border=\"1\" class=\"dataframe\">\n",
       "  <thead>\n",
       "    <tr style=\"text-align: right;\">\n",
       "      <th></th>\n",
       "      <th>radius_mean</th>\n",
       "      <th>area_mean</th>\n",
       "    </tr>\n",
       "  </thead>\n",
       "  <tbody>\n",
       "    <tr>\n",
       "      <th>count</th>\n",
       "      <td>569.000000</td>\n",
       "      <td>569.000000</td>\n",
       "    </tr>\n",
       "    <tr>\n",
       "      <th>mean</th>\n",
       "      <td>14.127292</td>\n",
       "      <td>654.889104</td>\n",
       "    </tr>\n",
       "    <tr>\n",
       "      <th>std</th>\n",
       "      <td>3.524049</td>\n",
       "      <td>351.914129</td>\n",
       "    </tr>\n",
       "    <tr>\n",
       "      <th>min</th>\n",
       "      <td>6.981000</td>\n",
       "      <td>143.500000</td>\n",
       "    </tr>\n",
       "    <tr>\n",
       "      <th>25%</th>\n",
       "      <td>11.700000</td>\n",
       "      <td>420.300000</td>\n",
       "    </tr>\n",
       "    <tr>\n",
       "      <th>50%</th>\n",
       "      <td>13.370000</td>\n",
       "      <td>551.100000</td>\n",
       "    </tr>\n",
       "    <tr>\n",
       "      <th>75%</th>\n",
       "      <td>15.780000</td>\n",
       "      <td>782.700000</td>\n",
       "    </tr>\n",
       "    <tr>\n",
       "      <th>max</th>\n",
       "      <td>28.110000</td>\n",
       "      <td>2501.000000</td>\n",
       "    </tr>\n",
       "  </tbody>\n",
       "</table>\n",
       "</div>"
      ],
      "text/plain": [
       "       radius_mean    area_mean\n",
       "count   569.000000   569.000000\n",
       "mean     14.127292   654.889104\n",
       "std       3.524049   351.914129\n",
       "min       6.981000   143.500000\n",
       "25%      11.700000   420.300000\n",
       "50%      13.370000   551.100000\n",
       "75%      15.780000   782.700000\n",
       "max      28.110000  2501.000000"
      ]
     },
     "execution_count": 61,
     "metadata": {},
     "output_type": "execute_result"
    }
   ],
   "source": [
    "#2c - Using the appropriate commands, report the summary statistics of radius mean and area mean. \n",
    "# Comment on the shape of the distributions of radius mean and area mean. (Hint: compare the mean and median)\n",
    "\n",
    "breast_cancer.describe()[['radius_mean', 'area_mean']]"
   ]
  },
  {
   "cell_type": "markdown",
   "id": "56890943-97d4-4fea-851f-8da05c2aaa44",
   "metadata": {},
   "source": [
    "From the above:<br>\n",
    "Radius mean is right-skewed since mean > Q2<br>\n",
    "Area mean is right skewed since mean > Q2"
   ]
  },
  {
   "cell_type": "code",
   "execution_count": 53,
   "id": "0f2cc8bc-bb24-4e3b-ad8e-58b4ec1bcb40",
   "metadata": {},
   "outputs": [
    {
     "name": "stdout",
     "output_type": "stream",
     "text": [
      "Radius mean z-score is  0      1.096100\n",
      "1      1.828212\n",
      "2      1.578499\n",
      "3     -0.768233\n",
      "4      1.748758\n",
      "         ...   \n",
      "564    2.109139\n",
      "565    1.703356\n",
      "566    0.701667\n",
      "567    1.836725\n",
      "568   -1.806811\n",
      "Name: radius_mean, Length: 569, dtype: float64\n",
      "Area mean z-score is  0      0.983510\n",
      "1      1.907030\n",
      "2      1.557513\n",
      "3     -0.763792\n",
      "4      1.824624\n",
      "         ...   \n",
      "564    2.341795\n",
      "565    1.722326\n",
      "566    0.577445\n",
      "567    1.733693\n",
      "568   -1.346604\n",
      "Name: area_mean, Length: 569, dtype: float64\n"
     ]
    }
   ],
   "source": [
    "#2d - Create two variables in the breast_cancer data-frame: one called z_radius_mean and another \n",
    "# one called z_area_mean that represent the z-score standardizations of radius_mean and area_mean\n",
    "\n",
    "z_radius_mean = (breast_cancer['radius_mean'] - breast_cancer['radius_mean'].mean()) / breast_cancer['radius_mean'].std()\n",
    "z_area_mean = (breast_cancer['area_mean'] - breast_cancer['area_mean'].mean()) / breast_cancer['area_mean'].std()\n",
    "\n",
    "print('Radius mean z-score is ', z_radius_mean)\n",
    "print('Area mean z-score is ', z_area_mean)"
   ]
  },
  {
   "cell_type": "code",
   "execution_count": 66,
   "id": "e770a9da-c873-41d5-a02f-0923ccbd0b26",
   "metadata": {},
   "outputs": [
    {
     "name": "stdout",
     "output_type": "stream",
     "text": [
      "Radius mean z-score is  0      1.097064\n",
      "1      1.829821\n",
      "2      1.579888\n",
      "3     -0.768909\n",
      "4      1.750297\n",
      "         ...   \n",
      "564    2.110995\n",
      "565    1.704854\n",
      "566    0.702284\n",
      "567    1.838341\n",
      "568   -1.808401\n",
      "Name: radius_mean, Length: 569, dtype: float64\n",
      "Area mean z-score is  0      0.984375\n",
      "1      1.908708\n",
      "2      1.558884\n",
      "3     -0.764464\n",
      "4      1.826229\n",
      "         ...   \n",
      "564    2.343856\n",
      "565    1.723842\n",
      "566    0.577953\n",
      "567    1.735218\n",
      "568   -1.347789\n",
      "Name: area_mean, Length: 569, dtype: float64\n"
     ]
    }
   ],
   "source": [
    "#Or you can do this for the same problem\n",
    "\n",
    "from scipy import stats\n",
    "\n",
    "z_radius_mean = stats.zscore(breast_cancer['radius_mean'])\n",
    "z_area_mean = stats.zscore(breast_cancer['area_mean'])\n",
    "\n",
    "print('Radius mean z-score is ', z_radius_mean)\n",
    "print('Area mean z-score is ', z_area_mean)"
   ]
  },
  {
   "cell_type": "code",
   "execution_count": 67,
   "id": "ae599b4a-b499-4f4e-85c2-f7867c89bbfd",
   "metadata": {},
   "outputs": [
    {
     "name": "stdout",
     "output_type": "stream",
     "text": [
      "count    5.690000e+02\n",
      "mean    -1.373633e-16\n",
      "std      1.000880e+00\n",
      "min     -2.029648e+00\n",
      "25%     -6.893853e-01\n",
      "50%     -2.150816e-01\n",
      "75%      4.693926e-01\n",
      "max      3.971288e+00\n",
      "Name: radius_mean, dtype: float64 \n",
      "\n",
      "count    5.690000e+02\n",
      "mean    -2.185325e-16\n",
      "std      1.000880e+00\n",
      "min     -1.454443e+00\n",
      "25%     -6.671955e-01\n",
      "50%     -2.951869e-01\n",
      "75%      3.635073e-01\n",
      "max      5.250529e+00\n",
      "Name: area_mean, dtype: float64\n"
     ]
    }
   ],
   "source": [
    "#2e -  Report the five-number summary statistics of z_radius_mean and z_area_mean. \n",
    "# Are the any outliers in those two variables? Explain.\n",
    "\n",
    "z_rd_mn_desc = z_radius_mean.describe()\n",
    "z_ar_mn_desc = z_area_mean.describe()\n",
    "\n",
    "print(z_rd_mn_desc, '\\n')\n",
    "print(z_ar_mn_desc)"
   ]
  },
  {
   "cell_type": "markdown",
   "id": "a89fdb62-a2a9-4519-9171-273a94a90e60",
   "metadata": {},
   "source": [
    "From the above, we can assume there are outliers for both since the max is much larger than the mean"
   ]
  },
  {
   "cell_type": "markdown",
   "id": "24866a8f-3bb5-4ac1-b0b5-cddd17bf290e",
   "metadata": {},
   "source": [
    "<h1><center>Problem 3</center></h1>\n",
    "\n",
    "Answer the following using the data_science_job_salaries.csv data file"
   ]
  },
  {
   "cell_type": "code",
   "execution_count": 69,
   "id": "e9f933eb-6c7c-471b-ad31-a28e7de7ebda",
   "metadata": {},
   "outputs": [
    {
     "data": {
      "text/html": [
       "<div>\n",
       "<style scoped>\n",
       "    .dataframe tbody tr th:only-of-type {\n",
       "        vertical-align: middle;\n",
       "    }\n",
       "\n",
       "    .dataframe tbody tr th {\n",
       "        vertical-align: top;\n",
       "    }\n",
       "\n",
       "    .dataframe thead th {\n",
       "        text-align: right;\n",
       "    }\n",
       "</style>\n",
       "<table border=\"1\" class=\"dataframe\">\n",
       "  <thead>\n",
       "    <tr style=\"text-align: right;\">\n",
       "      <th></th>\n",
       "      <th>work_year</th>\n",
       "      <th>experience_level</th>\n",
       "      <th>employment_type</th>\n",
       "      <th>job_title</th>\n",
       "      <th>salary</th>\n",
       "      <th>salary_currency</th>\n",
       "      <th>salary_in_usd</th>\n",
       "      <th>employee_residence</th>\n",
       "      <th>remote_ratio</th>\n",
       "      <th>company_location</th>\n",
       "      <th>company_size</th>\n",
       "    </tr>\n",
       "  </thead>\n",
       "  <tbody>\n",
       "    <tr>\n",
       "      <th>0</th>\n",
       "      <td>2020</td>\n",
       "      <td>Mid</td>\n",
       "      <td>FT</td>\n",
       "      <td>Data Scientist</td>\n",
       "      <td>70000</td>\n",
       "      <td>EUR</td>\n",
       "      <td>79833</td>\n",
       "      <td>Germany</td>\n",
       "      <td>On-site</td>\n",
       "      <td>Germany</td>\n",
       "      <td>L</td>\n",
       "    </tr>\n",
       "    <tr>\n",
       "      <th>1</th>\n",
       "      <td>2020</td>\n",
       "      <td>Senior</td>\n",
       "      <td>FT</td>\n",
       "      <td>Machine Learning Scientist</td>\n",
       "      <td>260000</td>\n",
       "      <td>USD</td>\n",
       "      <td>260000</td>\n",
       "      <td>Japan</td>\n",
       "      <td>On-site</td>\n",
       "      <td>Japan</td>\n",
       "      <td>S</td>\n",
       "    </tr>\n",
       "    <tr>\n",
       "      <th>2</th>\n",
       "      <td>2020</td>\n",
       "      <td>Senior</td>\n",
       "      <td>FT</td>\n",
       "      <td>Big Data Engineer</td>\n",
       "      <td>85000</td>\n",
       "      <td>GBP</td>\n",
       "      <td>109024</td>\n",
       "      <td>United Kingdom</td>\n",
       "      <td>Hybrid</td>\n",
       "      <td>United Kingdom</td>\n",
       "      <td>M</td>\n",
       "    </tr>\n",
       "    <tr>\n",
       "      <th>3</th>\n",
       "      <td>2020</td>\n",
       "      <td>Mid</td>\n",
       "      <td>FT</td>\n",
       "      <td>Product Data Analyst</td>\n",
       "      <td>20000</td>\n",
       "      <td>USD</td>\n",
       "      <td>20000</td>\n",
       "      <td>Honduras</td>\n",
       "      <td>On-site</td>\n",
       "      <td>Honduras</td>\n",
       "      <td>S</td>\n",
       "    </tr>\n",
       "    <tr>\n",
       "      <th>4</th>\n",
       "      <td>2020</td>\n",
       "      <td>Senior</td>\n",
       "      <td>FT</td>\n",
       "      <td>Machine Learning Engineer</td>\n",
       "      <td>150000</td>\n",
       "      <td>USD</td>\n",
       "      <td>150000</td>\n",
       "      <td>United States</td>\n",
       "      <td>Hybrid</td>\n",
       "      <td>United States</td>\n",
       "      <td>L</td>\n",
       "    </tr>\n",
       "  </tbody>\n",
       "</table>\n",
       "</div>"
      ],
      "text/plain": [
       "   work_year experience_level employment_type                   job_title  \\\n",
       "0       2020              Mid              FT              Data Scientist   \n",
       "1       2020           Senior              FT  Machine Learning Scientist   \n",
       "2       2020           Senior              FT           Big Data Engineer   \n",
       "3       2020              Mid              FT        Product Data Analyst   \n",
       "4       2020           Senior              FT   Machine Learning Engineer   \n",
       "\n",
       "   salary salary_currency  salary_in_usd employee_residence remote_ratio  \\\n",
       "0   70000             EUR          79833            Germany      On-site   \n",
       "1  260000             USD         260000              Japan      On-site   \n",
       "2   85000             GBP         109024     United Kingdom       Hybrid   \n",
       "3   20000             USD          20000           Honduras      On-site   \n",
       "4  150000             USD         150000      United States       Hybrid   \n",
       "\n",
       "  company_location company_size  \n",
       "0          Germany            L  \n",
       "1            Japan            S  \n",
       "2   United Kingdom            M  \n",
       "3         Honduras            S  \n",
       "4    United States            L  "
      ]
     },
     "execution_count": 69,
     "metadata": {},
     "output_type": "execute_result"
    }
   ],
   "source": [
    "#3a - Using the pandas library, read the csv file and create a data-frame called ds_salary.\n",
    "\n",
    "ds_salary = pd.read_csv('data_science_job_salaries.csv')\n",
    "ds_salary.head()"
   ]
  },
  {
   "cell_type": "code",
   "execution_count": 77,
   "id": "37cca2d8-ed73-4fbb-93fb-2ad3d5ca6549",
   "metadata": {},
   "outputs": [
    {
     "data": {
      "text/plain": [
       "job_title\n",
       "Data Scientist    143\n",
       "Data Engineer     132\n",
       "Data Analyst       97\n",
       "Name: count, dtype: int64"
      ]
     },
     "execution_count": 77,
     "metadata": {},
     "output_type": "execute_result"
    }
   ],
   "source": [
    "#3b - Using the appropriate commands, report the top three job title labels in the job title variable.\n",
    "\n",
    "top_three_titles = ds_salary['job_title'].value_counts().nlargest(3)\n",
    "top_three_titles"
   ]
  },
  {
   "cell_type": "code",
   "execution_count": 87,
   "id": "9ec889ae-da5a-4440-a946-ec1f9b3b7271",
   "metadata": {},
   "outputs": [
    {
     "data": {
      "text/plain": [
       "job_title\n",
       "Data Analytics Lead         405000.000000\n",
       "Principal Data Engineer     328333.333333\n",
       "Financial Data Analyst      275000.000000\n",
       "Principal Data Scientist    215242.428571\n",
       "Director of Data Science    195074.000000\n",
       "Name: salary_in_usd, dtype: float64"
      ]
     },
     "execution_count": 87,
     "metadata": {},
     "output_type": "execute_result"
    }
   ],
   "source": [
    "#3c - Using the appropriate commands, report the top five job titles with the\n",
    "# highest average salaries (in USD). Hint: you might consider using groupby().\n",
    "\n",
    "top_five_job_sal = ds_salary.groupby('job_title')['salary_in_usd'].mean().nlargest(5)\n",
    "top_five_job_sal"
   ]
  },
  {
   "cell_type": "code",
   "execution_count": 105,
   "id": "409488f7-19e5-4a4a-8160-d6dd3e78b30a",
   "metadata": {},
   "outputs": [
    {
     "data": {
      "text/plain": [
       "remote_ratio\n",
       "Hybrid     139837.411765\n",
       "On-site    141253.373134\n",
       "Remote     151980.786290\n",
       "Name: salary_in_usd, dtype: float64"
      ]
     },
     "execution_count": 105,
     "metadata": {},
     "output_type": "execute_result"
    }
   ],
   "source": [
    "#3d - A common hypothesis these days is that data science employees who come to the office regularly,\n",
    "# make more money. Using the appropriate commands, compute the average salary (in USD) based on remote\n",
    "# ratio for US employees. Does this calculation agree with the initial hypothesis? Explain.\n",
    "\n",
    "sal_remote = ds_salary.loc[ds_salary['employee_residence'] == 'United States'].groupby('remote_ratio')['salary_in_usd'].mean()\n",
    "sal_remote"
   ]
  },
  {
   "cell_type": "markdown",
   "id": "2b912aaf-346a-46bb-8674-51c2267fc8fe",
   "metadata": {},
   "source": [
    "From the above, we see that this is not true and those who work remotely actually make more $"
   ]
  }
 ],
 "metadata": {
  "kernelspec": {
   "display_name": "Python 3 (ipykernel)",
   "language": "python",
   "name": "python3"
  },
  "language_info": {
   "codemirror_mode": {
    "name": "ipython",
    "version": 3
   },
   "file_extension": ".py",
   "mimetype": "text/x-python",
   "name": "python",
   "nbconvert_exporter": "python",
   "pygments_lexer": "ipython3",
   "version": "3.8.17"
  }
 },
 "nbformat": 4,
 "nbformat_minor": 5
}
