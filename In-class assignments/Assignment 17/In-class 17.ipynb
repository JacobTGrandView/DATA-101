{
 "cells": [
  {
   "cell_type": "code",
   "execution_count": 1,
   "id": "367244dd-fe46-4877-8afe-300fbbe60a2f",
   "metadata": {},
   "outputs": [],
   "source": [
    "#1) False"
   ]
  },
  {
   "cell_type": "code",
   "execution_count": 2,
   "id": "7173753a-46c6-45aa-b76b-d3b6e9dc1d62",
   "metadata": {},
   "outputs": [],
   "source": [
    "#2) False"
   ]
  },
  {
   "cell_type": "code",
   "execution_count": 3,
   "id": "c12c85cd-0fe1-4e35-b6cb-c7b2efed0009",
   "metadata": {},
   "outputs": [],
   "source": [
    "#3) Model 1"
   ]
  },
  {
   "cell_type": "code",
   "execution_count": 4,
   "id": "62f42130-4760-4f6c-83cc-f70a14a27029",
   "metadata": {},
   "outputs": [],
   "source": [
    "#4) False"
   ]
  }
 ],
 "metadata": {
  "kernelspec": {
   "display_name": "Python 3 (ipykernel)",
   "language": "python",
   "name": "python3"
  },
  "language_info": {
   "codemirror_mode": {
    "name": "ipython",
    "version": 3
   },
   "file_extension": ".py",
   "mimetype": "text/x-python",
   "name": "python",
   "nbconvert_exporter": "python",
   "pygments_lexer": "ipython3",
   "version": "3.8.17"
  }
 },
 "nbformat": 4,
 "nbformat_minor": 5
}
