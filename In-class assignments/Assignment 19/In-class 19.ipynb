{
 "cells": [
  {
   "cell_type": "code",
   "execution_count": 2,
   "id": "713ea2a6-1e6f-4376-b1a6-2d6c8cd7acb6",
   "metadata": {},
   "outputs": [],
   "source": [
    "#1) True"
   ]
  },
  {
   "cell_type": "code",
   "execution_count": 3,
   "id": "46a89e0b-8d73-4e8d-8d2f-ad88a0a2bbf7",
   "metadata": {},
   "outputs": [],
   "source": [
    "#2) Model 3"
   ]
  },
  {
   "cell_type": "code",
   "execution_count": 4,
   "id": "9fb84b16-a71b-4555-b0f1-4aa591ec8c5a",
   "metadata": {},
   "outputs": [
    {
     "data": {
      "text/html": [
       "<div>\n",
       "<style scoped>\n",
       "    .dataframe tbody tr th:only-of-type {\n",
       "        vertical-align: middle;\n",
       "    }\n",
       "\n",
       "    .dataframe tbody tr th {\n",
       "        vertical-align: top;\n",
       "    }\n",
       "\n",
       "    .dataframe thead th {\n",
       "        text-align: right;\n",
       "    }\n",
       "</style>\n",
       "<table border=\"1\" class=\"dataframe\">\n",
       "  <thead>\n",
       "    <tr style=\"text-align: right;\">\n",
       "      <th></th>\n",
       "      <th>mpg</th>\n",
       "      <th>cylinders</th>\n",
       "      <th>displacement</th>\n",
       "      <th>horsepower</th>\n",
       "      <th>weight</th>\n",
       "      <th>acceleration</th>\n",
       "      <th>year</th>\n",
       "      <th>origin</th>\n",
       "      <th>name</th>\n",
       "    </tr>\n",
       "  </thead>\n",
       "  <tbody>\n",
       "    <tr>\n",
       "      <th>0</th>\n",
       "      <td>18.0</td>\n",
       "      <td>8</td>\n",
       "      <td>307.0</td>\n",
       "      <td>130</td>\n",
       "      <td>3504</td>\n",
       "      <td>12.0</td>\n",
       "      <td>70</td>\n",
       "      <td>1</td>\n",
       "      <td>chevrolet chevelle malibu</td>\n",
       "    </tr>\n",
       "    <tr>\n",
       "      <th>1</th>\n",
       "      <td>15.0</td>\n",
       "      <td>8</td>\n",
       "      <td>350.0</td>\n",
       "      <td>165</td>\n",
       "      <td>3693</td>\n",
       "      <td>11.5</td>\n",
       "      <td>70</td>\n",
       "      <td>1</td>\n",
       "      <td>buick skylark 320</td>\n",
       "    </tr>\n",
       "    <tr>\n",
       "      <th>2</th>\n",
       "      <td>18.0</td>\n",
       "      <td>8</td>\n",
       "      <td>318.0</td>\n",
       "      <td>150</td>\n",
       "      <td>3436</td>\n",
       "      <td>11.0</td>\n",
       "      <td>70</td>\n",
       "      <td>1</td>\n",
       "      <td>plymouth satellite</td>\n",
       "    </tr>\n",
       "    <tr>\n",
       "      <th>3</th>\n",
       "      <td>16.0</td>\n",
       "      <td>8</td>\n",
       "      <td>304.0</td>\n",
       "      <td>150</td>\n",
       "      <td>3433</td>\n",
       "      <td>12.0</td>\n",
       "      <td>70</td>\n",
       "      <td>1</td>\n",
       "      <td>amc rebel sst</td>\n",
       "    </tr>\n",
       "    <tr>\n",
       "      <th>4</th>\n",
       "      <td>17.0</td>\n",
       "      <td>8</td>\n",
       "      <td>302.0</td>\n",
       "      <td>140</td>\n",
       "      <td>3449</td>\n",
       "      <td>10.5</td>\n",
       "      <td>70</td>\n",
       "      <td>1</td>\n",
       "      <td>ford torino</td>\n",
       "    </tr>\n",
       "  </tbody>\n",
       "</table>\n",
       "</div>"
      ],
      "text/plain": [
       "    mpg  cylinders  displacement  horsepower  weight  acceleration  year  \\\n",
       "0  18.0          8         307.0         130    3504          12.0    70   \n",
       "1  15.0          8         350.0         165    3693          11.5    70   \n",
       "2  18.0          8         318.0         150    3436          11.0    70   \n",
       "3  16.0          8         304.0         150    3433          12.0    70   \n",
       "4  17.0          8         302.0         140    3449          10.5    70   \n",
       "\n",
       "   origin                       name  \n",
       "0       1  chevrolet chevelle malibu  \n",
       "1       1          buick skylark 320  \n",
       "2       1         plymouth satellite  \n",
       "3       1              amc rebel sst  \n",
       "4       1                ford torino  "
      ]
     },
     "execution_count": 4,
     "metadata": {},
     "output_type": "execute_result"
    }
   ],
   "source": [
    "import pandas as pd\n",
    "import numpy as np\n",
    "from sklearn.preprocessing import StandardScaler\n",
    "from sklearn.model_selection import train_test_split\n",
    "from sklearn.neighbors import KNeighborsRegressor\n",
    "from sklearn.ensemble import RandomForestRegressor, GradientBoostingRegressor\n",
    "from sklearn.metrics import mean_squared_error, mean_absolute_error\n",
    "\n",
    "autos = pd.read_csv('autos.csv')\n",
    "autos.head()"
   ]
  },
  {
   "cell_type": "code",
   "execution_count": 5,
   "id": "2f874f84-3431-458e-843e-9a85bbaf6778",
   "metadata": {},
   "outputs": [],
   "source": [
    "X = autos[['cylinders', 'displacement', 'horsepower', 'weight', 'acceleration']]\n",
    "Y = autos['mpg']"
   ]
  },
  {
   "cell_type": "code",
   "execution_count": 6,
   "id": "96003b04-27a8-46f6-9cfa-60f8b8952a39",
   "metadata": {},
   "outputs": [
    {
     "data": {
      "text/html": [
       "<div>\n",
       "<style scoped>\n",
       "    .dataframe tbody tr th:only-of-type {\n",
       "        vertical-align: middle;\n",
       "    }\n",
       "\n",
       "    .dataframe tbody tr th {\n",
       "        vertical-align: top;\n",
       "    }\n",
       "\n",
       "    .dataframe thead th {\n",
       "        text-align: right;\n",
       "    }\n",
       "</style>\n",
       "<table border=\"1\" class=\"dataframe\">\n",
       "  <thead>\n",
       "    <tr style=\"text-align: right;\">\n",
       "      <th></th>\n",
       "      <th>cylinders</th>\n",
       "      <th>displacement</th>\n",
       "      <th>horsepower</th>\n",
       "      <th>weight</th>\n",
       "      <th>acceleration</th>\n",
       "    </tr>\n",
       "  </thead>\n",
       "  <tbody>\n",
       "    <tr>\n",
       "      <th>0</th>\n",
       "      <td>1.483947</td>\n",
       "      <td>1.077290</td>\n",
       "      <td>0.664133</td>\n",
       "      <td>0.620540</td>\n",
       "      <td>-1.285258</td>\n",
       "    </tr>\n",
       "    <tr>\n",
       "      <th>1</th>\n",
       "      <td>1.483947</td>\n",
       "      <td>1.488732</td>\n",
       "      <td>1.574594</td>\n",
       "      <td>0.843334</td>\n",
       "      <td>-1.466724</td>\n",
       "    </tr>\n",
       "    <tr>\n",
       "      <th>2</th>\n",
       "      <td>1.483947</td>\n",
       "      <td>1.182542</td>\n",
       "      <td>1.184397</td>\n",
       "      <td>0.540382</td>\n",
       "      <td>-1.648189</td>\n",
       "    </tr>\n",
       "    <tr>\n",
       "      <th>3</th>\n",
       "      <td>1.483947</td>\n",
       "      <td>1.048584</td>\n",
       "      <td>1.184397</td>\n",
       "      <td>0.536845</td>\n",
       "      <td>-1.285258</td>\n",
       "    </tr>\n",
       "    <tr>\n",
       "      <th>4</th>\n",
       "      <td>1.483947</td>\n",
       "      <td>1.029447</td>\n",
       "      <td>0.924265</td>\n",
       "      <td>0.555706</td>\n",
       "      <td>-1.829655</td>\n",
       "    </tr>\n",
       "  </tbody>\n",
       "</table>\n",
       "</div>"
      ],
      "text/plain": [
       "   cylinders  displacement  horsepower    weight  acceleration\n",
       "0   1.483947      1.077290    0.664133  0.620540     -1.285258\n",
       "1   1.483947      1.488732    1.574594  0.843334     -1.466724\n",
       "2   1.483947      1.182542    1.184397  0.540382     -1.648189\n",
       "3   1.483947      1.048584    1.184397  0.536845     -1.285258\n",
       "4   1.483947      1.029447    0.924265  0.555706     -1.829655"
      ]
     },
     "execution_count": 6,
     "metadata": {},
     "output_type": "execute_result"
    }
   ],
   "source": [
    "scaler = StandardScaler().set_output(transform = 'pandas')\n",
    "\n",
    "X = scaler.fit_transform(X)\n",
    "X.head()"
   ]
  },
  {
   "cell_type": "code",
   "execution_count": 7,
   "id": "3390715c-1bc9-43dd-b18f-8e05d2243455",
   "metadata": {},
   "outputs": [],
   "source": [
    "X_train, X_test, Y_train, Y_test = train_test_split(X, Y, test_size = 0.2)"
   ]
  },
  {
   "cell_type": "code",
   "execution_count": 8,
   "id": "8cb6d7fc-04c7-482b-93de-feed1f8846ec",
   "metadata": {},
   "outputs": [
    {
     "name": "stdout",
     "output_type": "stream",
     "text": [
      "The MSE of the knn model is 4.430896700400524\n",
      "The MAE of the knn model is 3.3820253164556955\n"
     ]
    }
   ],
   "source": [
    "knn_md = KNeighborsRegressor(n_neighbors = 5).fit(X_train, Y_train)\n",
    "\n",
    "knn_pred = knn_md.predict(X_test)\n",
    "\n",
    "print(f\"The MSE of the knn model is {mean_squared_error(Y_test, knn_pred, squared = False)}\")\n",
    "print(f\"The MAE of the knn model is {mean_absolute_error(Y_test, knn_pred)}\")"
   ]
  },
  {
   "cell_type": "code",
   "execution_count": 9,
   "id": "3dbac16c-3035-48c7-8808-26dfb9bf6c2b",
   "metadata": {},
   "outputs": [
    {
     "name": "stdout",
     "output_type": "stream",
     "text": [
      "The RMSE of the RF model is 4.515719821967907\n",
      "The MAE of the RF model is 3.300071888502605\n"
     ]
    }
   ],
   "source": [
    "RF_md = RandomForestRegressor(n_estimators = 500, max_depth = 3).fit(X_train, Y_train)\n",
    "\n",
    "RF_pred = RF_md.predict(X_test)\n",
    "\n",
    "print(f\"The RMSE of the RF model is {mean_squared_error(Y_test, RF_pred, squared = False)}\")\n",
    "print(f\"The MAE of the RF model is {mean_absolute_error(Y_test, RF_pred)}\")"
   ]
  },
  {
   "cell_type": "code",
   "execution_count": 10,
   "id": "cb0d1a68-3c54-4737-b536-cc2f886ebbfe",
   "metadata": {},
   "outputs": [
    {
     "name": "stdout",
     "output_type": "stream",
     "text": [
      "The RMSE of the GB model is 4.549219368217059\n",
      "The MAE of the GB model is 3.3272839771650444\n"
     ]
    }
   ],
   "source": [
    "GB_md = GradientBoostingRegressor(n_estimators = 500, max_depth = 3).fit(X_train, Y_train)\n",
    "\n",
    "GB_pred = GB_md.predict(X_test)\n",
    "\n",
    "print(f\"The RMSE of the GB model is {mean_squared_error(Y_test, GB_pred, squared = False)}\")\n",
    "print(f\"The MAE of the GB model is {mean_absolute_error(Y_test, GB_pred)}\")"
   ]
  }
 ],
 "metadata": {
  "kernelspec": {
   "display_name": "Python 3 (ipykernel)",
   "language": "python",
   "name": "python3"
  },
  "language_info": {
   "codemirror_mode": {
    "name": "ipython",
    "version": 3
   },
   "file_extension": ".py",
   "mimetype": "text/x-python",
   "name": "python",
   "nbconvert_exporter": "python",
   "pygments_lexer": "ipython3",
   "version": "3.8.17"
  }
 },
 "nbformat": 4,
 "nbformat_minor": 5
}
