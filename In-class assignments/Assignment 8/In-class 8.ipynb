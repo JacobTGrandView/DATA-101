{
 "cells": [
  {
   "cell_type": "code",
   "execution_count": 1,
   "id": "86d94bc4-f736-459b-a364-2bffae142928",
   "metadata": {},
   "outputs": [],
   "source": [
    "#1) C\n",
    "#2) D\n",
    "#3a) 1.8\n",
    "#3b) 3.1"
   ]
  },
  {
   "cell_type": "code",
   "execution_count": 2,
   "id": "c06db901-b108-481a-8c4d-bed1a5dd1a81",
   "metadata": {},
   "outputs": [
    {
     "data": {
      "text/plain": [
       "array([ 1,  3,  5,  7, 13])"
      ]
     },
     "execution_count": 2,
     "metadata": {},
     "output_type": "execute_result"
    }
   ],
   "source": [
    "import numpy as np\n",
    "\n",
    "A = np.array([1, 3, 5, 7, 13])\n",
    "A"
   ]
  },
  {
   "cell_type": "code",
   "execution_count": 4,
   "id": "ec20aab1-78d6-4784-9136-8fdb55a1e5ff",
   "metadata": {},
   "outputs": [
    {
     "data": {
      "text/plain": [
       "array([0.        , 0.16666667, 0.33333333, 0.5       , 1.        ])"
      ]
     },
     "execution_count": 4,
     "metadata": {},
     "output_type": "execute_result"
    }
   ],
   "source": [
    "(A - np.min(A)) / (np.max(A) - np.min(A))"
   ]
  },
  {
   "cell_type": "code",
   "execution_count": 5,
   "id": "a1920fbf-2e4a-423b-9357-e7a9749bf7ed",
   "metadata": {},
   "outputs": [
    {
     "data": {
      "text/plain": [
       "array([[0.        ],\n",
       "       [0.16666667],\n",
       "       [0.33333333],\n",
       "       [0.5       ],\n",
       "       [1.        ]])"
      ]
     },
     "execution_count": 5,
     "metadata": {},
     "output_type": "execute_result"
    }
   ],
   "source": [
    "from sklearn.preprocessing import MinMaxScaler\n",
    "\n",
    "scaler = MinMaxScaler()\n",
    "scaler.fit_transform(A.reshape(-1, 1))"
   ]
  },
  {
   "cell_type": "code",
   "execution_count": 6,
   "id": "99b096d3-4e15-4888-97cf-b712f2b918db",
   "metadata": {},
   "outputs": [
    {
     "data": {
      "text/plain": [
       "array([-1.04249338, -0.60812114, -0.1737489 ,  0.26062335,  1.56374007])"
      ]
     },
     "execution_count": 6,
     "metadata": {},
     "output_type": "execute_result"
    }
   ],
   "source": [
    "(A - np.mean(A)) / np.std(A, ddof = 1)"
   ]
  },
  {
   "cell_type": "code",
   "execution_count": 7,
   "id": "8b10c804-87fd-40a8-8e74-05b354b50f59",
   "metadata": {},
   "outputs": [
    {
     "data": {
      "text/plain": [
       "array([[-1.16554303],\n",
       "       [-0.6799001 ],\n",
       "       [-0.19425717],\n",
       "       [ 0.29138576],\n",
       "       [ 1.74831455]])"
      ]
     },
     "execution_count": 7,
     "metadata": {},
     "output_type": "execute_result"
    }
   ],
   "source": [
    "from sklearn.preprocessing import StandardScaler\n",
    "\n",
    "scaler = StandardScaler()\n",
    "scaler.fit_transform(A.reshape(-1, 1))"
   ]
  }
 ],
 "metadata": {
  "kernelspec": {
   "display_name": "Python 3 (ipykernel)",
   "language": "python",
   "name": "python3"
  },
  "language_info": {
   "codemirror_mode": {
    "name": "ipython",
    "version": 3
   },
   "file_extension": ".py",
   "mimetype": "text/x-python",
   "name": "python",
   "nbconvert_exporter": "python",
   "pygments_lexer": "ipython3",
   "version": "3.8.17"
  }
 },
 "nbformat": 4,
 "nbformat_minor": 5
}
